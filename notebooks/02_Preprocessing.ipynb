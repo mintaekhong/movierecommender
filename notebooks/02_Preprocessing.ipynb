{
 "cells": [
  {
   "cell_type": "markdown",
   "metadata": {},
   "source": [
    "# 02_Preprocessing"
   ]
  },
  {
   "cell_type": "markdown",
   "metadata": {},
   "source": [
    "Before we engineer our recommender system, we must preprocess our data for a robust system. For our content-based recommender, we need to use standard nlp practices such as tokenize and lemmatize to turn text data into numerical data. For the collaborative filtering recommender system, it is important to remove item bias by calculating the average score and of the given reviews for that movie as well as calculating the standard deviation. By subtracting the mean review score from the review score and dividing by the standard deviation, we are essentially standard scaling and the transformed values now carry more meaning. The calculations were performed server-side postgressql for computational efficiency. "
   ]
  },
  {
   "cell_type": "code",
   "execution_count": 1,
   "metadata": {},
   "outputs": [
    {
     "name": "stdout",
     "output_type": "stream",
     "text": [
      "Requirement already satisfied: nltk in /opt/conda/lib/python3.6/site-packages (3.4)\n",
      "Requirement already satisfied: singledispatch in /opt/conda/lib/python3.6/site-packages (from nltk) (3.4.0.3)\n",
      "Requirement already satisfied: six in /opt/conda/lib/python3.6/site-packages (from nltk) (1.12.0)\n"
     ]
    }
   ],
   "source": [
    "!pip install nltk"
   ]
  },
  {
   "cell_type": "code",
   "execution_count": 2,
   "metadata": {},
   "outputs": [
    {
     "name": "stderr",
     "output_type": "stream",
     "text": [
      "[nltk_data] Downloading package wordnet to /home/jovyan/nltk_data...\n",
      "[nltk_data]   Package wordnet is already up-to-date!\n"
     ]
    }
   ],
   "source": [
    "import nltk\n",
    "nltk.download('wordnet')\n",
    "\n",
    "import re\n",
    "from nltk.tokenize import RegexpTokenizer\n",
    "\n",
    "from nltk.stem import WordNetLemmatizer\n",
    "lemmatizer = WordNetLemmatizer()\n",
    "\n",
    "import pandas as pd\n",
    "import numpy as np"
   ]
  },
  {
   "cell_type": "markdown",
   "metadata": {},
   "source": [
    "### Content-based recommender preprocessing"
   ]
  },
  {
   "cell_type": "code",
   "execution_count": 3,
   "metadata": {},
   "outputs": [],
   "source": [
    "merged = pd.read_csv('../assets/merged.csv', lineterminator='\\n')"
   ]
  },
  {
   "cell_type": "code",
   "execution_count": 4,
   "metadata": {},
   "outputs": [
    {
     "data": {
      "text/plain": [
       "Unnamed: 0              0\n",
       "movie_id                0\n",
       "tmdb_id                 0\n",
       "release_date           12\n",
       "overview              210\n",
       "title_y                 0\n",
       "genres                  0\n",
       "overview_tokenized      0\n",
       "overview_features     213\n",
       "dtype: int64"
      ]
     },
     "execution_count": 4,
     "metadata": {},
     "output_type": "execute_result"
    }
   ],
   "source": [
    "merged.isnull().sum()"
   ]
  },
  {
   "cell_type": "code",
   "execution_count": 5,
   "metadata": {},
   "outputs": [
    {
     "data": {
      "text/plain": [
       "(26742, 9)"
      ]
     },
     "execution_count": 5,
     "metadata": {},
     "output_type": "execute_result"
    }
   ],
   "source": [
    "merged.shape"
   ]
  },
  {
   "cell_type": "code",
   "execution_count": 6,
   "metadata": {},
   "outputs": [
    {
     "data": {
      "text/html": [
       "<div>\n",
       "<style scoped>\n",
       "    .dataframe tbody tr th:only-of-type {\n",
       "        vertical-align: middle;\n",
       "    }\n",
       "\n",
       "    .dataframe tbody tr th {\n",
       "        vertical-align: top;\n",
       "    }\n",
       "\n",
       "    .dataframe thead th {\n",
       "        text-align: right;\n",
       "    }\n",
       "</style>\n",
       "<table border=\"1\" class=\"dataframe\">\n",
       "  <thead>\n",
       "    <tr style=\"text-align: right;\">\n",
       "      <th></th>\n",
       "      <th>Unnamed: 0</th>\n",
       "      <th>movie_id</th>\n",
       "      <th>tmdb_id</th>\n",
       "      <th>release_date</th>\n",
       "      <th>overview</th>\n",
       "      <th>title_y</th>\n",
       "      <th>genres</th>\n",
       "      <th>overview_tokenized</th>\n",
       "      <th>overview_features</th>\n",
       "    </tr>\n",
       "  </thead>\n",
       "  <tbody>\n",
       "    <tr>\n",
       "      <th>0</th>\n",
       "      <td>0</td>\n",
       "      <td>1</td>\n",
       "      <td>862</td>\n",
       "      <td>1995-10-30</td>\n",
       "      <td>Led by Woody, Andy's toys live happily in his ...</td>\n",
       "      <td>Toy Story (1995)</td>\n",
       "      <td>Adventure|Animation|Children|Comedy|Fantasy</td>\n",
       "      <td>['Led', 'by', 'Woody', 'Andy', 's', 'toys', 'l...</td>\n",
       "      <td>Led by Woody Andy s toy live happily in his ro...</td>\n",
       "    </tr>\n",
       "    <tr>\n",
       "      <th>1</th>\n",
       "      <td>1</td>\n",
       "      <td>2</td>\n",
       "      <td>8844</td>\n",
       "      <td>1995-12-15</td>\n",
       "      <td>When siblings Judy and Peter discover an encha...</td>\n",
       "      <td>Jumanji (1995)</td>\n",
       "      <td>Adventure|Children|Fantasy</td>\n",
       "      <td>['When', 'siblings', 'Judy', 'and', 'Peter', '...</td>\n",
       "      <td>When sibling Judy and Peter discover an enchan...</td>\n",
       "    </tr>\n",
       "    <tr>\n",
       "      <th>2</th>\n",
       "      <td>2</td>\n",
       "      <td>3</td>\n",
       "      <td>15602</td>\n",
       "      <td>1995-12-22</td>\n",
       "      <td>A family wedding reignites the ancient feud be...</td>\n",
       "      <td>Grumpier Old Men (1995)</td>\n",
       "      <td>Comedy|Romance</td>\n",
       "      <td>['A', 'family', 'wedding', 'reignites', 'the',...</td>\n",
       "      <td>A family wedding reignites the ancient feud be...</td>\n",
       "    </tr>\n",
       "    <tr>\n",
       "      <th>3</th>\n",
       "      <td>3</td>\n",
       "      <td>129</td>\n",
       "      <td>110972</td>\n",
       "      <td>1996-02-09</td>\n",
       "      <td>Pie in the Sky is a 1996 American romantic com...</td>\n",
       "      <td>Pie in the Sky (1996)</td>\n",
       "      <td>Comedy|Romance</td>\n",
       "      <td>['Pie', 'in', 'the', 'Sky', 'is', 'a', '1996',...</td>\n",
       "      <td>Pie in the Sky is a 1996 American romantic com...</td>\n",
       "    </tr>\n",
       "    <tr>\n",
       "      <th>4</th>\n",
       "      <td>4</td>\n",
       "      <td>654</td>\n",
       "      <td>278978</td>\n",
       "      <td>1996-02-29</td>\n",
       "      <td>NaN</td>\n",
       "      <td>And Nobody Weeps for Me (Und keiner weint mir ...</td>\n",
       "      <td>Drama|Romance</td>\n",
       "      <td>[]</td>\n",
       "      <td>NaN</td>\n",
       "    </tr>\n",
       "  </tbody>\n",
       "</table>\n",
       "</div>"
      ],
      "text/plain": [
       "   Unnamed: 0  movie_id  tmdb_id release_date  \\\n",
       "0           0         1      862   1995-10-30   \n",
       "1           1         2     8844   1995-12-15   \n",
       "2           2         3    15602   1995-12-22   \n",
       "3           3       129   110972   1996-02-09   \n",
       "4           4       654   278978   1996-02-29   \n",
       "\n",
       "                                            overview  \\\n",
       "0  Led by Woody, Andy's toys live happily in his ...   \n",
       "1  When siblings Judy and Peter discover an encha...   \n",
       "2  A family wedding reignites the ancient feud be...   \n",
       "3  Pie in the Sky is a 1996 American romantic com...   \n",
       "4                                                NaN   \n",
       "\n",
       "                                             title_y  \\\n",
       "0                                   Toy Story (1995)   \n",
       "1                                     Jumanji (1995)   \n",
       "2                            Grumpier Old Men (1995)   \n",
       "3                              Pie in the Sky (1996)   \n",
       "4  And Nobody Weeps for Me (Und keiner weint mir ...   \n",
       "\n",
       "                                        genres  \\\n",
       "0  Adventure|Animation|Children|Comedy|Fantasy   \n",
       "1                   Adventure|Children|Fantasy   \n",
       "2                               Comedy|Romance   \n",
       "3                               Comedy|Romance   \n",
       "4                                Drama|Romance   \n",
       "\n",
       "                                  overview_tokenized  \\\n",
       "0  ['Led', 'by', 'Woody', 'Andy', 's', 'toys', 'l...   \n",
       "1  ['When', 'siblings', 'Judy', 'and', 'Peter', '...   \n",
       "2  ['A', 'family', 'wedding', 'reignites', 'the',...   \n",
       "3  ['Pie', 'in', 'the', 'Sky', 'is', 'a', '1996',...   \n",
       "4                                                 []   \n",
       "\n",
       "                                   overview_features  \n",
       "0  Led by Woody Andy s toy live happily in his ro...  \n",
       "1  When sibling Judy and Peter discover an enchan...  \n",
       "2  A family wedding reignites the ancient feud be...  \n",
       "3  Pie in the Sky is a 1996 American romantic com...  \n",
       "4                                                NaN  "
      ]
     },
     "execution_count": 6,
     "metadata": {},
     "output_type": "execute_result"
    }
   ],
   "source": [
    "merged.head()"
   ]
  },
  {
   "cell_type": "code",
   "execution_count": 7,
   "metadata": {},
   "outputs": [],
   "source": [
    "tokenizer = RegexpTokenizer(r'\\w+')"
   ]
  },
  {
   "cell_type": "code",
   "execution_count": 8,
   "metadata": {},
   "outputs": [],
   "source": [
    "merged['genres_split'] = merged['genres'].str.split('|')"
   ]
  },
  {
   "cell_type": "code",
   "execution_count": 9,
   "metadata": {},
   "outputs": [],
   "source": [
    "merged['genres_features'] = merged['genres_split'].map(lambda x: ' '.join([lemmatizer.lemmatize(word) for word in x]))\n"
   ]
  },
  {
   "cell_type": "code",
   "execution_count": 10,
   "metadata": {},
   "outputs": [
    {
     "data": {
      "text/plain": [
       "Unnamed: 0              0\n",
       "movie_id                0\n",
       "tmdb_id                 0\n",
       "release_date           12\n",
       "overview              210\n",
       "title_y                 0\n",
       "genres                  0\n",
       "overview_tokenized      0\n",
       "overview_features     213\n",
       "genres_split            0\n",
       "genres_features         0\n",
       "dtype: int64"
      ]
     },
     "execution_count": 10,
     "metadata": {},
     "output_type": "execute_result"
    }
   ],
   "source": [
    "merged.isnull().sum()"
   ]
  },
  {
   "cell_type": "markdown",
   "metadata": {},
   "source": [
    "We have null values in our overview. In order to run our preprocessing, I will fill them with empty strings."
   ]
  },
  {
   "cell_type": "code",
   "execution_count": 11,
   "metadata": {},
   "outputs": [
    {
     "data": {
      "text/html": [
       "<div>\n",
       "<style scoped>\n",
       "    .dataframe tbody tr th:only-of-type {\n",
       "        vertical-align: middle;\n",
       "    }\n",
       "\n",
       "    .dataframe tbody tr th {\n",
       "        vertical-align: top;\n",
       "    }\n",
       "\n",
       "    .dataframe thead th {\n",
       "        text-align: right;\n",
       "    }\n",
       "</style>\n",
       "<table border=\"1\" class=\"dataframe\">\n",
       "  <thead>\n",
       "    <tr style=\"text-align: right;\">\n",
       "      <th></th>\n",
       "      <th>Unnamed: 0</th>\n",
       "      <th>movie_id</th>\n",
       "      <th>tmdb_id</th>\n",
       "      <th>release_date</th>\n",
       "      <th>overview</th>\n",
       "      <th>title_y</th>\n",
       "      <th>genres</th>\n",
       "      <th>overview_tokenized</th>\n",
       "      <th>overview_features</th>\n",
       "      <th>genres_split</th>\n",
       "      <th>genres_features</th>\n",
       "    </tr>\n",
       "  </thead>\n",
       "  <tbody>\n",
       "    <tr>\n",
       "      <th>4</th>\n",
       "      <td>4</td>\n",
       "      <td>654</td>\n",
       "      <td>278978</td>\n",
       "      <td>1996-02-29</td>\n",
       "      <td>NaN</td>\n",
       "      <td>And Nobody Weeps for Me (Und keiner weint mir ...</td>\n",
       "      <td>Drama|Romance</td>\n",
       "      <td>[]</td>\n",
       "      <td>NaN</td>\n",
       "      <td>[Drama, Romance]</td>\n",
       "      <td>Drama Romance</td>\n",
       "    </tr>\n",
       "    <tr>\n",
       "      <th>10</th>\n",
       "      <td>10</td>\n",
       "      <td>33</td>\n",
       "      <td>78802</td>\n",
       "      <td>1996-09-18</td>\n",
       "      <td>NaN</td>\n",
       "      <td>Wings of Courage (1995)</td>\n",
       "      <td>Adventure|Romance|IMAX</td>\n",
       "      <td>[]</td>\n",
       "      <td>NaN</td>\n",
       "      <td>[Adventure, Romance, IMAX]</td>\n",
       "      <td>Adventure Romance IMAX</td>\n",
       "    </tr>\n",
       "    <tr>\n",
       "      <th>71</th>\n",
       "      <td>71</td>\n",
       "      <td>4926</td>\n",
       "      <td>58886</td>\n",
       "      <td>2000-04-12</td>\n",
       "      <td>NaN</td>\n",
       "      <td>Everybody's Famous! (Iedereen beroemd!) (2000)</td>\n",
       "      <td>Comedy|Drama|Musical</td>\n",
       "      <td>[]</td>\n",
       "      <td>NaN</td>\n",
       "      <td>[Comedy, Drama, Musical]</td>\n",
       "      <td>Comedy Drama Musical</td>\n",
       "    </tr>\n",
       "    <tr>\n",
       "      <th>98</th>\n",
       "      <td>98</td>\n",
       "      <td>42636</td>\n",
       "      <td>68646</td>\n",
       "      <td>2002-02-28</td>\n",
       "      <td>NaN</td>\n",
       "      <td>Superproduction (Superprodukcja) (2003)</td>\n",
       "      <td>Comedy</td>\n",
       "      <td>[]</td>\n",
       "      <td>NaN</td>\n",
       "      <td>[Comedy]</td>\n",
       "      <td>Comedy</td>\n",
       "    </tr>\n",
       "    <tr>\n",
       "      <th>658</th>\n",
       "      <td>658</td>\n",
       "      <td>643</td>\n",
       "      <td>287305</td>\n",
       "      <td>1996-03-21</td>\n",
       "      <td>NaN</td>\n",
       "      <td>Peanuts - Die Bank zahlt alles (1996)</td>\n",
       "      <td>Comedy</td>\n",
       "      <td>[]</td>\n",
       "      <td>NaN</td>\n",
       "      <td>[Comedy]</td>\n",
       "      <td>Comedy</td>\n",
       "    </tr>\n",
       "  </tbody>\n",
       "</table>\n",
       "</div>"
      ],
      "text/plain": [
       "     Unnamed: 0  movie_id  tmdb_id release_date overview  \\\n",
       "4             4       654   278978   1996-02-29      NaN   \n",
       "10           10        33    78802   1996-09-18      NaN   \n",
       "71           71      4926    58886   2000-04-12      NaN   \n",
       "98           98     42636    68646   2002-02-28      NaN   \n",
       "658         658       643   287305   1996-03-21      NaN   \n",
       "\n",
       "                                               title_y  \\\n",
       "4    And Nobody Weeps for Me (Und keiner weint mir ...   \n",
       "10                             Wings of Courage (1995)   \n",
       "71      Everybody's Famous! (Iedereen beroemd!) (2000)   \n",
       "98             Superproduction (Superprodukcja) (2003)   \n",
       "658              Peanuts - Die Bank zahlt alles (1996)   \n",
       "\n",
       "                     genres overview_tokenized overview_features  \\\n",
       "4             Drama|Romance                 []               NaN   \n",
       "10   Adventure|Romance|IMAX                 []               NaN   \n",
       "71     Comedy|Drama|Musical                 []               NaN   \n",
       "98                   Comedy                 []               NaN   \n",
       "658                  Comedy                 []               NaN   \n",
       "\n",
       "                   genres_split         genres_features  \n",
       "4              [Drama, Romance]           Drama Romance  \n",
       "10   [Adventure, Romance, IMAX]  Adventure Romance IMAX  \n",
       "71     [Comedy, Drama, Musical]    Comedy Drama Musical  \n",
       "98                     [Comedy]                  Comedy  \n",
       "658                    [Comedy]                  Comedy  "
      ]
     },
     "execution_count": 11,
     "metadata": {},
     "output_type": "execute_result"
    }
   ],
   "source": [
    "merged[merged.overview.isnull()].head()"
   ]
  },
  {
   "cell_type": "code",
   "execution_count": 12,
   "metadata": {},
   "outputs": [
    {
     "data": {
      "text/plain": [
       "210"
      ]
     },
     "execution_count": 12,
     "metadata": {},
     "output_type": "execute_result"
    }
   ],
   "source": [
    "merged['overview'].isnull().sum()"
   ]
  },
  {
   "cell_type": "code",
   "execution_count": 13,
   "metadata": {},
   "outputs": [
    {
     "data": {
      "text/plain": [
       "35"
      ]
     },
     "execution_count": 13,
     "metadata": {},
     "output_type": "execute_result"
    }
   ],
   "source": [
    "len(merged[merged['overview'] == 'No overview found.'])"
   ]
  },
  {
   "cell_type": "markdown",
   "metadata": {},
   "source": [
    "Total of 245 (=210 + 35) movies do not have an overview and hence will not be included in the content recommender."
   ]
  },
  {
   "cell_type": "code",
   "execution_count": 14,
   "metadata": {},
   "outputs": [],
   "source": [
    "merged['overview'].fillna('', inplace = True)\n",
    "merged['overview'].replace('No overview found.', '')\n",
    "merged['overview_features'].fillna('', inplace = True)"
   ]
  },
  {
   "cell_type": "code",
   "execution_count": 15,
   "metadata": {},
   "outputs": [
    {
     "data": {
      "text/plain": [
       "Unnamed: 0             0\n",
       "movie_id               0\n",
       "tmdb_id                0\n",
       "release_date          12\n",
       "overview               0\n",
       "title_y                0\n",
       "genres                 0\n",
       "overview_tokenized     0\n",
       "overview_features      0\n",
       "genres_split           0\n",
       "genres_features        0\n",
       "dtype: int64"
      ]
     },
     "execution_count": 15,
     "metadata": {},
     "output_type": "execute_result"
    }
   ],
   "source": [
    "merged.isnull().sum()"
   ]
  },
  {
   "cell_type": "markdown",
   "metadata": {},
   "source": [
    "We do not care about if release_date is null or not; it will be left as is."
   ]
  },
  {
   "cell_type": "markdown",
   "metadata": {},
   "source": [
    "Join the genres_features and overview_features to create an aggregate field of features that describe the movie"
   ]
  },
  {
   "cell_type": "code",
   "execution_count": 16,
   "metadata": {},
   "outputs": [],
   "source": [
    "merged['all_features'] = merged['genres_features'] + ' ' + merged['overview_features']"
   ]
  },
  {
   "cell_type": "code",
   "execution_count": 17,
   "metadata": {},
   "outputs": [
    {
     "data": {
      "text/html": [
       "<div>\n",
       "<style scoped>\n",
       "    .dataframe tbody tr th:only-of-type {\n",
       "        vertical-align: middle;\n",
       "    }\n",
       "\n",
       "    .dataframe tbody tr th {\n",
       "        vertical-align: top;\n",
       "    }\n",
       "\n",
       "    .dataframe thead th {\n",
       "        text-align: right;\n",
       "    }\n",
       "</style>\n",
       "<table border=\"1\" class=\"dataframe\">\n",
       "  <thead>\n",
       "    <tr style=\"text-align: right;\">\n",
       "      <th></th>\n",
       "      <th>Unnamed: 0</th>\n",
       "      <th>movie_id</th>\n",
       "      <th>tmdb_id</th>\n",
       "      <th>release_date</th>\n",
       "      <th>overview</th>\n",
       "      <th>title_y</th>\n",
       "      <th>genres</th>\n",
       "      <th>overview_tokenized</th>\n",
       "      <th>overview_features</th>\n",
       "      <th>genres_split</th>\n",
       "      <th>genres_features</th>\n",
       "      <th>all_features</th>\n",
       "    </tr>\n",
       "  </thead>\n",
       "  <tbody>\n",
       "    <tr>\n",
       "      <th>0</th>\n",
       "      <td>0</td>\n",
       "      <td>1</td>\n",
       "      <td>862</td>\n",
       "      <td>1995-10-30</td>\n",
       "      <td>Led by Woody, Andy's toys live happily in his ...</td>\n",
       "      <td>Toy Story (1995)</td>\n",
       "      <td>Adventure|Animation|Children|Comedy|Fantasy</td>\n",
       "      <td>['Led', 'by', 'Woody', 'Andy', 's', 'toys', 'l...</td>\n",
       "      <td>Led by Woody Andy s toy live happily in his ro...</td>\n",
       "      <td>[Adventure, Animation, Children, Comedy, Fantasy]</td>\n",
       "      <td>Adventure Animation Children Comedy Fantasy</td>\n",
       "      <td>Adventure Animation Children Comedy Fantasy Le...</td>\n",
       "    </tr>\n",
       "    <tr>\n",
       "      <th>1</th>\n",
       "      <td>1</td>\n",
       "      <td>2</td>\n",
       "      <td>8844</td>\n",
       "      <td>1995-12-15</td>\n",
       "      <td>When siblings Judy and Peter discover an encha...</td>\n",
       "      <td>Jumanji (1995)</td>\n",
       "      <td>Adventure|Children|Fantasy</td>\n",
       "      <td>['When', 'siblings', 'Judy', 'and', 'Peter', '...</td>\n",
       "      <td>When sibling Judy and Peter discover an enchan...</td>\n",
       "      <td>[Adventure, Children, Fantasy]</td>\n",
       "      <td>Adventure Children Fantasy</td>\n",
       "      <td>Adventure Children Fantasy When sibling Judy a...</td>\n",
       "    </tr>\n",
       "    <tr>\n",
       "      <th>2</th>\n",
       "      <td>2</td>\n",
       "      <td>3</td>\n",
       "      <td>15602</td>\n",
       "      <td>1995-12-22</td>\n",
       "      <td>A family wedding reignites the ancient feud be...</td>\n",
       "      <td>Grumpier Old Men (1995)</td>\n",
       "      <td>Comedy|Romance</td>\n",
       "      <td>['A', 'family', 'wedding', 'reignites', 'the',...</td>\n",
       "      <td>A family wedding reignites the ancient feud be...</td>\n",
       "      <td>[Comedy, Romance]</td>\n",
       "      <td>Comedy Romance</td>\n",
       "      <td>Comedy Romance A family wedding reignites the ...</td>\n",
       "    </tr>\n",
       "    <tr>\n",
       "      <th>3</th>\n",
       "      <td>3</td>\n",
       "      <td>129</td>\n",
       "      <td>110972</td>\n",
       "      <td>1996-02-09</td>\n",
       "      <td>Pie in the Sky is a 1996 American romantic com...</td>\n",
       "      <td>Pie in the Sky (1996)</td>\n",
       "      <td>Comedy|Romance</td>\n",
       "      <td>['Pie', 'in', 'the', 'Sky', 'is', 'a', '1996',...</td>\n",
       "      <td>Pie in the Sky is a 1996 American romantic com...</td>\n",
       "      <td>[Comedy, Romance]</td>\n",
       "      <td>Comedy Romance</td>\n",
       "      <td>Comedy Romance Pie in the Sky is a 1996 Americ...</td>\n",
       "    </tr>\n",
       "    <tr>\n",
       "      <th>4</th>\n",
       "      <td>4</td>\n",
       "      <td>654</td>\n",
       "      <td>278978</td>\n",
       "      <td>1996-02-29</td>\n",
       "      <td></td>\n",
       "      <td>And Nobody Weeps for Me (Und keiner weint mir ...</td>\n",
       "      <td>Drama|Romance</td>\n",
       "      <td>[]</td>\n",
       "      <td></td>\n",
       "      <td>[Drama, Romance]</td>\n",
       "      <td>Drama Romance</td>\n",
       "      <td>Drama Romance</td>\n",
       "    </tr>\n",
       "  </tbody>\n",
       "</table>\n",
       "</div>"
      ],
      "text/plain": [
       "   Unnamed: 0  movie_id  tmdb_id release_date  \\\n",
       "0           0         1      862   1995-10-30   \n",
       "1           1         2     8844   1995-12-15   \n",
       "2           2         3    15602   1995-12-22   \n",
       "3           3       129   110972   1996-02-09   \n",
       "4           4       654   278978   1996-02-29   \n",
       "\n",
       "                                            overview  \\\n",
       "0  Led by Woody, Andy's toys live happily in his ...   \n",
       "1  When siblings Judy and Peter discover an encha...   \n",
       "2  A family wedding reignites the ancient feud be...   \n",
       "3  Pie in the Sky is a 1996 American romantic com...   \n",
       "4                                                      \n",
       "\n",
       "                                             title_y  \\\n",
       "0                                   Toy Story (1995)   \n",
       "1                                     Jumanji (1995)   \n",
       "2                            Grumpier Old Men (1995)   \n",
       "3                              Pie in the Sky (1996)   \n",
       "4  And Nobody Weeps for Me (Und keiner weint mir ...   \n",
       "\n",
       "                                        genres  \\\n",
       "0  Adventure|Animation|Children|Comedy|Fantasy   \n",
       "1                   Adventure|Children|Fantasy   \n",
       "2                               Comedy|Romance   \n",
       "3                               Comedy|Romance   \n",
       "4                                Drama|Romance   \n",
       "\n",
       "                                  overview_tokenized  \\\n",
       "0  ['Led', 'by', 'Woody', 'Andy', 's', 'toys', 'l...   \n",
       "1  ['When', 'siblings', 'Judy', 'and', 'Peter', '...   \n",
       "2  ['A', 'family', 'wedding', 'reignites', 'the',...   \n",
       "3  ['Pie', 'in', 'the', 'Sky', 'is', 'a', '1996',...   \n",
       "4                                                 []   \n",
       "\n",
       "                                   overview_features  \\\n",
       "0  Led by Woody Andy s toy live happily in his ro...   \n",
       "1  When sibling Judy and Peter discover an enchan...   \n",
       "2  A family wedding reignites the ancient feud be...   \n",
       "3  Pie in the Sky is a 1996 American romantic com...   \n",
       "4                                                      \n",
       "\n",
       "                                        genres_split  \\\n",
       "0  [Adventure, Animation, Children, Comedy, Fantasy]   \n",
       "1                     [Adventure, Children, Fantasy]   \n",
       "2                                  [Comedy, Romance]   \n",
       "3                                  [Comedy, Romance]   \n",
       "4                                   [Drama, Romance]   \n",
       "\n",
       "                               genres_features  \\\n",
       "0  Adventure Animation Children Comedy Fantasy   \n",
       "1                   Adventure Children Fantasy   \n",
       "2                               Comedy Romance   \n",
       "3                               Comedy Romance   \n",
       "4                                Drama Romance   \n",
       "\n",
       "                                        all_features  \n",
       "0  Adventure Animation Children Comedy Fantasy Le...  \n",
       "1  Adventure Children Fantasy When sibling Judy a...  \n",
       "2  Comedy Romance A family wedding reignites the ...  \n",
       "3  Comedy Romance Pie in the Sky is a 1996 Americ...  \n",
       "4                                     Drama Romance   "
      ]
     },
     "execution_count": 17,
     "metadata": {},
     "output_type": "execute_result"
    }
   ],
   "source": [
    "merged.head()"
   ]
  },
  {
   "cell_type": "code",
   "execution_count": 18,
   "metadata": {},
   "outputs": [],
   "source": [
    "merged.drop('Unnamed: 0', axis = 1, inplace = True)"
   ]
  },
  {
   "cell_type": "code",
   "execution_count": 19,
   "metadata": {},
   "outputs": [],
   "source": [
    "merged.rename(columns = {'title_y': 'title'}, inplace = True)"
   ]
  },
  {
   "cell_type": "code",
   "execution_count": 21,
   "metadata": {},
   "outputs": [],
   "source": [
    "merged.to_csv('../assets/merged_processed.csv')"
   ]
  },
  {
   "cell_type": "markdown",
   "metadata": {},
   "source": [
    "### Collaborative Filtering Recommender Preprocessing"
   ]
  },
  {
   "cell_type": "markdown",
   "metadata": {},
   "source": [
    "Linking up the serial movie_id with the title from original movie database because the cosine_distance_df is currently serial_movie_ids\n",
    "\n",
    "```\n",
    "CREATE TABLE serial_movie_id_title(\n",
    "  s_movie_id INT,\n",
    "  title TEXT\n",
    ");\n",
    "```"
   ]
  },
  {
   "cell_type": "markdown",
   "metadata": {},
   "source": [
    "I am removing item bias\n",
    "\n",
    "```\n",
    "INSERT INTO serial_movie_id_title(\n",
    "  SELECT a.s_movie_id, b.title\n",
    "  FROM serial_movie_id AS a\n",
    "  INNER JOIN movie AS b\n",
    "  on a.movie_id = b.movie_id\n",
    ");\n",
    " ```"
   ]
  },
  {
   "cell_type": "markdown",
   "metadata": {},
   "source": [
    "Create a table with scaler that selects the movie_id and the average of ratings and standard deviation of movies that have more than 9 reviews:\n",
    "```\n",
    "CREATE TABLE scalers AS(\n",
    "SELECT movie_id, avg(rating), stddev(rating)\n",
    "FROM ratings GROUP BY movie_id\n",
    "HAVING COUNT(*) > 9\n",
    ");\n",
    "```"
   ]
  },
  {
   "cell_type": "markdown",
   "metadata": {},
   "source": [
    "Scale the data using the calculated fields from above:\n",
    "```\n",
    "CREATE TABLE scaled AS(\n",
    "SELECT a.movie_id, a.user_id,\n",
    "(a.rating - b.avg)/b.stddev AS scaled_rating\n",
    "FROM ratings AS a\n",
    "INNER JOIN scalers AS b\n",
    "ON a.movie_id = b.movie_id\n",
    ");\n",
    "```"
   ]
  },
  {
   "cell_type": "markdown",
   "metadata": {},
   "source": [
    "The preprocessed dataframe and scaled table will now be utilized in **03_Recommender_Engineering.ipynb** "
   ]
  }
 ],
 "metadata": {
  "kernelspec": {
   "display_name": "Python 3",
   "language": "python",
   "name": "python3"
  },
  "language_info": {
   "codemirror_mode": {
    "name": "ipython",
    "version": 3
   },
   "file_extension": ".py",
   "mimetype": "text/x-python",
   "name": "python",
   "nbconvert_exporter": "python",
   "pygments_lexer": "ipython3",
   "version": "3.6.7"
  }
 },
 "nbformat": 4,
 "nbformat_minor": 2
}
