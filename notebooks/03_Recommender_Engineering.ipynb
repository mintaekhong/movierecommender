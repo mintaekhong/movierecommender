{
 "cells": [
  {
   "cell_type": "markdown",
   "metadata": {},
   "source": [
    "# Recommender Engineering"
   ]
  },
  {
   "cell_type": "markdown",
   "metadata": {},
   "source": [
    "In this notebook, I will leverage the filtered and pre-processed data to generate two movie recommender systems: content-based and collaborative-filtering. I will then evaluate the recommendations and choose one for production."
   ]
  },
  {
   "cell_type": "markdown",
   "metadata": {},
   "source": [
    "![contentbasedfiltering_vs_collaborativefiltering](/contentbasedfiltering_vs_collaborativefiltering.png)"
   ]
  },
  {
   "cell_type": "markdown",
   "metadata": {},
   "source": [
    "To introduce the two main filtering methods, the main difference between the two is that the movies are vectorized in different ways. For collaborative filtering, each movie is vectorized by the reviews of other reviews. On the other hand for content based filtering method, the features of a movie (i.e. the genres and overview) are used as vector representations of the movies. In both cases, the cosine similarity is calculated between the vectors to help recommend the most similar movie. "
   ]
  },
  {
   "cell_type": "code",
   "execution_count": 1,
   "metadata": {},
   "outputs": [],
   "source": [
    "from scipy.sparse import coo_matrix"
   ]
  },
  {
   "cell_type": "code",
   "execution_count": 2,
   "metadata": {},
   "outputs": [
    {
     "name": "stdout",
     "output_type": "stream",
     "text": [
      "Requirement already satisfied: psycopg2-binary in /opt/conda/lib/python3.6/site-packages (2.7.7)\n"
     ]
    }
   ],
   "source": [
    "!pip install psycopg2-binary"
   ]
  },
  {
   "cell_type": "code",
   "execution_count": 3,
   "metadata": {},
   "outputs": [],
   "source": [
    "import pandas as pd\n",
    "import numpy as np\n",
    "import psycopg2 as pg2\n",
    "from psycopg2.extras import RealDictCursor, Json\n",
    "from sklearn.feature_extraction.text import CountVectorizer, TfidfVectorizer\n",
    "from sklearn.metrics.pairwise import cosine_similarity, linear_kernel\n",
    "from sklearn.metrics import pairwise_distances\n",
    "import seaborn as sns\n",
    "from sys import getsizeof\n",
    "\n",
    "sns.set()\n",
    "\n",
    "import matplotlib.pyplot as plt\n",
    "%matplotlib inline"
   ]
  },
  {
   "cell_type": "markdown",
   "metadata": {},
   "source": [
    "## Content Based Filtering/Recommendation"
   ]
  },
  {
   "cell_type": "code",
   "execution_count": 4,
   "metadata": {},
   "outputs": [],
   "source": [
    "merged = pd.read_csv('../assets/merged_processed.csv', lineterminator = '\\n', index_col = 0)"
   ]
  },
  {
   "cell_type": "code",
   "execution_count": 5,
   "metadata": {},
   "outputs": [
    {
     "data": {
      "text/html": [
       "<div>\n",
       "<style scoped>\n",
       "    .dataframe tbody tr th:only-of-type {\n",
       "        vertical-align: middle;\n",
       "    }\n",
       "\n",
       "    .dataframe tbody tr th {\n",
       "        vertical-align: top;\n",
       "    }\n",
       "\n",
       "    .dataframe thead th {\n",
       "        text-align: right;\n",
       "    }\n",
       "</style>\n",
       "<table border=\"1\" class=\"dataframe\">\n",
       "  <thead>\n",
       "    <tr style=\"text-align: right;\">\n",
       "      <th></th>\n",
       "      <th>movie_id</th>\n",
       "      <th>tmdb_id</th>\n",
       "      <th>release_date</th>\n",
       "      <th>overview</th>\n",
       "      <th>title</th>\n",
       "      <th>genres</th>\n",
       "      <th>overview_tokenized</th>\n",
       "      <th>overview_features</th>\n",
       "      <th>genres_split</th>\n",
       "      <th>genres_features</th>\n",
       "      <th>all_features</th>\n",
       "    </tr>\n",
       "  </thead>\n",
       "  <tbody>\n",
       "    <tr>\n",
       "      <th>0</th>\n",
       "      <td>1</td>\n",
       "      <td>862</td>\n",
       "      <td>1995-10-30</td>\n",
       "      <td>Led by Woody, Andy's toys live happily in his ...</td>\n",
       "      <td>Toy Story (1995)</td>\n",
       "      <td>Adventure|Animation|Children|Comedy|Fantasy</td>\n",
       "      <td>['Led', 'by', 'Woody', 'Andy', 's', 'toys', 'l...</td>\n",
       "      <td>Led by Woody Andy s toy live happily in his ro...</td>\n",
       "      <td>['Adventure', 'Animation', 'Children', 'Comedy...</td>\n",
       "      <td>Adventure Animation Children Comedy Fantasy</td>\n",
       "      <td>Adventure Animation Children Comedy Fantasy Le...</td>\n",
       "    </tr>\n",
       "    <tr>\n",
       "      <th>1</th>\n",
       "      <td>2</td>\n",
       "      <td>8844</td>\n",
       "      <td>1995-12-15</td>\n",
       "      <td>When siblings Judy and Peter discover an encha...</td>\n",
       "      <td>Jumanji (1995)</td>\n",
       "      <td>Adventure|Children|Fantasy</td>\n",
       "      <td>['When', 'siblings', 'Judy', 'and', 'Peter', '...</td>\n",
       "      <td>When sibling Judy and Peter discover an enchan...</td>\n",
       "      <td>['Adventure', 'Children', 'Fantasy']</td>\n",
       "      <td>Adventure Children Fantasy</td>\n",
       "      <td>Adventure Children Fantasy When sibling Judy a...</td>\n",
       "    </tr>\n",
       "    <tr>\n",
       "      <th>2</th>\n",
       "      <td>3</td>\n",
       "      <td>15602</td>\n",
       "      <td>1995-12-22</td>\n",
       "      <td>A family wedding reignites the ancient feud be...</td>\n",
       "      <td>Grumpier Old Men (1995)</td>\n",
       "      <td>Comedy|Romance</td>\n",
       "      <td>['A', 'family', 'wedding', 'reignites', 'the',...</td>\n",
       "      <td>A family wedding reignites the ancient feud be...</td>\n",
       "      <td>['Comedy', 'Romance']</td>\n",
       "      <td>Comedy Romance</td>\n",
       "      <td>Comedy Romance A family wedding reignites the ...</td>\n",
       "    </tr>\n",
       "    <tr>\n",
       "      <th>3</th>\n",
       "      <td>129</td>\n",
       "      <td>110972</td>\n",
       "      <td>1996-02-09</td>\n",
       "      <td>Pie in the Sky is a 1996 American romantic com...</td>\n",
       "      <td>Pie in the Sky (1996)</td>\n",
       "      <td>Comedy|Romance</td>\n",
       "      <td>['Pie', 'in', 'the', 'Sky', 'is', 'a', '1996',...</td>\n",
       "      <td>Pie in the Sky is a 1996 American romantic com...</td>\n",
       "      <td>['Comedy', 'Romance']</td>\n",
       "      <td>Comedy Romance</td>\n",
       "      <td>Comedy Romance Pie in the Sky is a 1996 Americ...</td>\n",
       "    </tr>\n",
       "    <tr>\n",
       "      <th>4</th>\n",
       "      <td>654</td>\n",
       "      <td>278978</td>\n",
       "      <td>1996-02-29</td>\n",
       "      <td>NaN</td>\n",
       "      <td>And Nobody Weeps for Me (Und keiner weint mir ...</td>\n",
       "      <td>Drama|Romance</td>\n",
       "      <td>[]</td>\n",
       "      <td>NaN</td>\n",
       "      <td>['Drama', 'Romance']</td>\n",
       "      <td>Drama Romance</td>\n",
       "      <td>Drama Romance</td>\n",
       "    </tr>\n",
       "  </tbody>\n",
       "</table>\n",
       "</div>"
      ],
      "text/plain": [
       "   movie_id  tmdb_id release_date  \\\n",
       "0         1      862   1995-10-30   \n",
       "1         2     8844   1995-12-15   \n",
       "2         3    15602   1995-12-22   \n",
       "3       129   110972   1996-02-09   \n",
       "4       654   278978   1996-02-29   \n",
       "\n",
       "                                            overview  \\\n",
       "0  Led by Woody, Andy's toys live happily in his ...   \n",
       "1  When siblings Judy and Peter discover an encha...   \n",
       "2  A family wedding reignites the ancient feud be...   \n",
       "3  Pie in the Sky is a 1996 American romantic com...   \n",
       "4                                                NaN   \n",
       "\n",
       "                                               title  \\\n",
       "0                                   Toy Story (1995)   \n",
       "1                                     Jumanji (1995)   \n",
       "2                            Grumpier Old Men (1995)   \n",
       "3                              Pie in the Sky (1996)   \n",
       "4  And Nobody Weeps for Me (Und keiner weint mir ...   \n",
       "\n",
       "                                        genres  \\\n",
       "0  Adventure|Animation|Children|Comedy|Fantasy   \n",
       "1                   Adventure|Children|Fantasy   \n",
       "2                               Comedy|Romance   \n",
       "3                               Comedy|Romance   \n",
       "4                                Drama|Romance   \n",
       "\n",
       "                                  overview_tokenized  \\\n",
       "0  ['Led', 'by', 'Woody', 'Andy', 's', 'toys', 'l...   \n",
       "1  ['When', 'siblings', 'Judy', 'and', 'Peter', '...   \n",
       "2  ['A', 'family', 'wedding', 'reignites', 'the',...   \n",
       "3  ['Pie', 'in', 'the', 'Sky', 'is', 'a', '1996',...   \n",
       "4                                                 []   \n",
       "\n",
       "                                   overview_features  \\\n",
       "0  Led by Woody Andy s toy live happily in his ro...   \n",
       "1  When sibling Judy and Peter discover an enchan...   \n",
       "2  A family wedding reignites the ancient feud be...   \n",
       "3  Pie in the Sky is a 1996 American romantic com...   \n",
       "4                                                NaN   \n",
       "\n",
       "                                        genres_split  \\\n",
       "0  ['Adventure', 'Animation', 'Children', 'Comedy...   \n",
       "1               ['Adventure', 'Children', 'Fantasy']   \n",
       "2                              ['Comedy', 'Romance']   \n",
       "3                              ['Comedy', 'Romance']   \n",
       "4                               ['Drama', 'Romance']   \n",
       "\n",
       "                               genres_features  \\\n",
       "0  Adventure Animation Children Comedy Fantasy   \n",
       "1                   Adventure Children Fantasy   \n",
       "2                               Comedy Romance   \n",
       "3                               Comedy Romance   \n",
       "4                                Drama Romance   \n",
       "\n",
       "                                        all_features  \n",
       "0  Adventure Animation Children Comedy Fantasy Le...  \n",
       "1  Adventure Children Fantasy When sibling Judy a...  \n",
       "2  Comedy Romance A family wedding reignites the ...  \n",
       "3  Comedy Romance Pie in the Sky is a 1996 Americ...  \n",
       "4                                     Drama Romance   "
      ]
     },
     "execution_count": 5,
     "metadata": {},
     "output_type": "execute_result"
    }
   ],
   "source": [
    "merged.head()"
   ]
  },
  {
   "cell_type": "code",
   "execution_count": 6,
   "metadata": {},
   "outputs": [],
   "source": [
    "merged['overview'].fillna('', inplace = True)\n",
    "merged['overview'].replace('No overview found.', '')\n",
    "merged['overview_features'].fillna('', inplace = True)"
   ]
  },
  {
   "cell_type": "markdown",
   "metadata": {},
   "source": [
    "I instantiate a tfidf vectorizer using stop words of english to filter out common stop words such as 'like', 'but', 'again', 'with' and etc."
   ]
  },
  {
   "cell_type": "code",
   "execution_count": 7,
   "metadata": {},
   "outputs": [],
   "source": [
    "tfidf = TfidfVectorizer(min_df = 0, stop_words = 'english')"
   ]
  },
  {
   "cell_type": "code",
   "execution_count": 8,
   "metadata": {},
   "outputs": [
    {
     "data": {
      "text/plain": [
       "movie_id               0\n",
       "tmdb_id                0\n",
       "release_date          12\n",
       "overview               0\n",
       "title                  0\n",
       "genres                 0\n",
       "overview_tokenized     0\n",
       "overview_features      0\n",
       "genres_split           0\n",
       "genres_features        0\n",
       "all_features           0\n",
       "dtype: int64"
      ]
     },
     "execution_count": 8,
     "metadata": {},
     "output_type": "execute_result"
    }
   ],
   "source": [
    "merged.isnull().sum()"
   ]
  },
  {
   "cell_type": "code",
   "execution_count": 9,
   "metadata": {},
   "outputs": [],
   "source": [
    "tfidf_matrix = tfidf.fit_transform(merged['all_features'])"
   ]
  },
  {
   "cell_type": "markdown",
   "metadata": {},
   "source": [
    "With the generated tfidf matrix of the features, comprised of genre and movie overview, I create a cosine_similarity matrix (a.k.a. taking the dot product of itself)"
   ]
  },
  {
   "cell_type": "code",
   "execution_count": 10,
   "metadata": {},
   "outputs": [],
   "source": [
    "cosine_sim = cosine_similarity(tfidf_matrix, tfidf_matrix)"
   ]
  },
  {
   "cell_type": "markdown",
   "metadata": {},
   "source": [
    "The code below that generate recommendations are borrowed from a DataCamp tutorial:\n",
    "https://www.datacamp.com/community/tutorials/recommender-systems-python"
   ]
  },
  {
   "cell_type": "code",
   "execution_count": 11,
   "metadata": {},
   "outputs": [],
   "source": [
    "indices = pd.Series(merged.index, index = merged['title']).drop_duplicates()"
   ]
  },
  {
   "cell_type": "code",
   "execution_count": 12,
   "metadata": {},
   "outputs": [],
   "source": [
    "def content_recommendations(title, cosine_sim=cosine_sim):\n",
    "    index = indices[title]\n",
    "    sim_scores = list(enumerate(cosine_sim[index]))\n",
    "    sorted_sim_scores = sorted(sim_scores, key=lambda x: x[1], reverse=True)\n",
    "    top15_sorted_sim_scores = sorted_sim_scores[1:16]\n",
    "    movie_indices = [i[0] for i in top15_sorted_sim_scores]\n",
    "    return merged['title'].iloc[movie_indices]"
   ]
  },
  {
   "cell_type": "code",
   "execution_count": 13,
   "metadata": {},
   "outputs": [
    {
     "data": {
      "text/plain": [
       "15302                    Toy Story 3 (2010)\n",
       "3060                     Toy Story 2 (1999)\n",
       "24003     Toy Story Toons: Small Fry (2011)\n",
       "10359        40-Year-Old Virgin, The (2005)\n",
       "23383    Andy Hardy's Blonde Trouble (1944)\n",
       "1936                  Child's Play 2 (1990)\n",
       "1098           Rebel Without a Cause (1955)\n",
       "1986                       Condorman (1981)\n",
       "11446         For Your Consideration (2006)\n",
       "21081       Andy Hardy's Double Life (1942)\n",
       "3120                 Man on the Moon (1999)\n",
       "1937                  Child's Play 3 (1991)\n",
       "23110     Andy Hardy Meets Debutante (1940)\n",
       "6520          What's Up, Tiger Lily? (1966)\n",
       "506                           Malice (1993)\n",
       "Name: title, dtype: object"
      ]
     },
     "execution_count": 13,
     "metadata": {},
     "output_type": "execute_result"
    }
   ],
   "source": [
    "content_recommendations('Toy Story (1995)')"
   ]
  },
  {
   "cell_type": "code",
   "execution_count": 14,
   "metadata": {},
   "outputs": [
    {
     "data": {
      "text/plain": [
       "9212                   Batman & Mr. Freeze: Subzero (1998)\n",
       "21120               Batman: Mystery of the Batwoman (2003)\n",
       "605                                          Batman (1989)\n",
       "160                                  Batman Forever (1995)\n",
       "14903                               Leaves of Grass (2009)\n",
       "15464                    Batman: Under the Red Hood (2010)\n",
       "16736                               For Love of Ivy (1968)\n",
       "20925    Batman Unmasked: The Psychology of the Dark Kn...\n",
       "1362                                 Batman Returns (1992)\n",
       "7799                        Day After Tomorrow, The (2004)\n",
       "18124                        Dark Knight Rises, The (2012)\n",
       "10877                       Ice Age 2: The Meltdown (2006)\n",
       "21702                               Super Cops, The (1974)\n",
       "18015                              Batman and Robin (1949)\n",
       "9292             Batman Beyond: Return of the Joker (2000)\n",
       "Name: title, dtype: object"
      ]
     },
     "execution_count": 14,
     "metadata": {},
     "output_type": "execute_result"
    }
   ],
   "source": [
    "content_recommendations('Batman & Robin (1997)')"
   ]
  },
  {
   "cell_type": "code",
   "execution_count": 15,
   "metadata": {},
   "outputs": [
    {
     "data": {
      "text/plain": [
       "19603                    Indie Game: The Movie (2012)\n",
       "21335                              Table No.21 (2013)\n",
       "15373                      Slender Thread, The (1965)\n",
       "17131                          Dark Angel, The (1935)\n",
       "6254                                 Brainscan (1994)\n",
       "13706                               Rhinoceros (1974)\n",
       "8881                                   Quintet (1979)\n",
       "9566                                 Word Wars (2004)\n",
       "7828                       Last of Sheila, The (1973)\n",
       "23564                      Beast Must Die, The (1974)\n",
       "13599             Mindscape of Alan Moore, The (2003)\n",
       "22547                               Love Games (2012)\n",
       "6141                          Poolhall Junkies (2002)\n",
       "8164                           Masks (Masques) (1987)\n",
       "19537    Nightmaster (Watch the Shadows Dance) (1987)\n",
       "Name: title, dtype: object"
      ]
     },
     "execution_count": 15,
     "metadata": {},
     "output_type": "execute_result"
    }
   ],
   "source": [
    "content_recommendations('Jumanji (1995)')"
   ]
  },
  {
   "cell_type": "markdown",
   "metadata": {},
   "source": [
    "### Evaluation of Content-based filtering method"
   ]
  },
  {
   "cell_type": "markdown",
   "metadata": {},
   "source": [
    "Some of the recommendations are questionable.\n",
    "- **Toy Story (1995)**: While the first three recommendations are valid, (i.e. users who enjoyed Toy Story are likely to enjoy the movie sequels and the TV series related to Toy Story) subsequent recommendations such as 40-Year-Old Virgin and Child's Play 2 are unexpected. The rationale behind why such movies may have been recommended is because of how content-based filtering methods work behind the scenes. Because the movies are vectorized based on the genre and overview provided, if a different movie's overview contains similar diction, it is likely to be represented as vectors close to each other.\n",
    "- **Batman & Robin (1997)**: Similar narrative to the Toy Story example but the potential pitfalls of content-based method is amplified. In this example, more than half of the recommendations are batman related - most likely because the overviews of the movies include the word 'batman', 'gotham' and etc.\n",
    "- **Jumanji (1995)**: Arguably, the best recommendation out of the three, Jumanji does not have a specific entity name that is being represented across other movie vectors and therefore, the genres features may hold more weight in providing the recommendations."
   ]
  },
  {
   "cell_type": "markdown",
   "metadata": {},
   "source": [
    "Examine an output of the recommender:"
   ]
  },
  {
   "cell_type": "code",
   "execution_count": 16,
   "metadata": {},
   "outputs": [
    {
     "name": "stdout",
     "output_type": "stream",
     "text": [
      "[ 'Comedy Romance Andy Stitzer ha a pleasant life with a nice apartment and a job stamping invoice at an electronics store But at age 40 there s one thing Andy hasn t done and it s really bothering his sex obsessed male co worker Andy is still a virgin Determined to help Andy get laid the guy make it their mission to de virginize him But it all seems hopeless until Andy meet small business owner Trish a single mom']\n"
     ]
    }
   ],
   "source": [
    "print(merged[merged['title'] == '40-Year-Old Virgin, The (2005)']['all_features'].values)"
   ]
  },
  {
   "cell_type": "code",
   "execution_count": 17,
   "metadata": {},
   "outputs": [
    {
     "name": "stdout",
     "output_type": "stream",
     "text": [
      "[ 'Horror Thriller When Andy s mother is admitted to a psychiatric hospital the young boy is placed in foster care and Chucky determined to claim Andy s soul is not far behind']\n"
     ]
    }
   ],
   "source": [
    "print(merged[merged['title'].str.contains('Play 2')]['all_features'].values)"
   ]
  },
  {
   "cell_type": "code",
   "execution_count": 18,
   "metadata": {},
   "outputs": [
    {
     "name": "stdout",
     "output_type": "stream",
     "text": [
      "[ 'Adventure Animation Children Comedy Fantasy Led by Woody Andy s toy live happily in his room until Andy s birthday brings Buzz Lightyear onto the scene Afraid of losing his place in Andy s heart Woody plot against Buzz But when circumstance separate Buzz and Woody from their owner the duo eventually learns to put aside their difference']\n"
     ]
    }
   ],
   "source": [
    "print(merged[merged['title'] == 'Toy Story (1995)']['all_features'].values)"
   ]
  },
  {
   "cell_type": "markdown",
   "metadata": {},
   "source": [
    "For example, examining the overview of 'Toy Story (1995)', '40-Year-Old Virgin, The (2005)', and 'Child's Play 2', we can see that the likely reason that the two movies were included in the recommendation because the word 'Andy' appears in the movie vectors."
   ]
  },
  {
   "cell_type": "markdown",
   "metadata": {},
   "source": [
    "**Overall** <br>\n",
    "Going forward, as briefly mentioned in the Jumanji evaluation and further examined in the evaluation of the Toy Story recommendations, removing entity names such as 'Andy' or names of places is likely to improve our recommendations. By doing so, the recommendations can truly be based on the verbs or other diction within the overview, which also leads me to believe that semantic analysis of the overviews may improve the recommender. "
   ]
  },
  {
   "cell_type": "markdown",
   "metadata": {},
   "source": [
    "## Collaborative Filtering/Recommendation"
   ]
  },
  {
   "cell_type": "markdown",
   "metadata": {},
   "source": [
    "For computation efficiency, I used PostgresSQL on the server-side to store my data for easier querying and manipulation of data."
   ]
  },
  {
   "cell_type": "code",
   "execution_count": 19,
   "metadata": {},
   "outputs": [],
   "source": [
    "%run '../sql.py'"
   ]
  },
  {
   "cell_type": "code",
   "execution_count": 20,
   "metadata": {},
   "outputs": [],
   "source": [
    "def con_cur_to_db(dbname=DBNAME):\n",
    "    ''' \n",
    "    Returns both a connection and a cursor object for your database\n",
    "    '''\n",
    "    con = pg2.connect(host=IP_ADDRESS,\n",
    "                  dbname=dbname,\n",
    "                  user=USER,\n",
    "                  password=PASSWORD)\n",
    "    cur = con.cursor()\n",
    "    return con, cur\n",
    "\n",
    "def con_cur_to_db_dict(dbname=DBNAME):\n",
    "    con = pg2.connect(host=IP_ADDRESS,\n",
    "                  dbname=dbname,\n",
    "                  user=USER,\n",
    "                  password=PASSWORD)\n",
    "    cur = con.cursor(cursor_factory=RealDictCursor)\n",
    "    return con, cur\n",
    "    \n",
    "def execute_query(query, dbname=DBNAME):\n",
    "    '''\n",
    "    Executes a query directly to a database, without having to create a cursor and connection each time. \n",
    "    '''\n",
    "    con, cur = con_cur_to_db(dbname)\n",
    "    cur.execute(f'{query}')\n",
    "    data = cur.fetchall()\n",
    "    con.close()\n",
    "    return data\n",
    "    \n",
    "def execute_query_dict(query, dbname=DBNAME):\n",
    "    con, cur = con_cur_to_db_dict(dbname)\n",
    "    cur.execute(f'{query}')\n",
    "    data = cur.fetchall()\n",
    "    con.close()\n",
    "    return data"
   ]
  },
  {
   "cell_type": "markdown",
   "metadata": {},
   "source": [
    "I select my scaled ratings from the scaled table and obtain the movie id and user ids and store into the variable response"
   ]
  },
  {
   "cell_type": "code",
   "execution_count": 21,
   "metadata": {},
   "outputs": [],
   "source": [
    "query = \"\"\"\n",
    "SELECT ROUND(a.scaled_rating::numeric, 7), b.s_movie_id, c.s_user_id\n",
    "FROM scaled a\n",
    "INNER JOIN serial_movie_id b\n",
    "ON a.movie_id = b.movie_id\n",
    "INNER JOIN serial_user_id c\n",
    "ON a.user_id = c.user_id;\n",
    "\"\"\""
   ]
  },
  {
   "cell_type": "code",
   "execution_count": 22,
   "metadata": {},
   "outputs": [],
   "source": [
    "response = execute_query(query)"
   ]
  },
  {
   "cell_type": "code",
   "execution_count": 23,
   "metadata": {},
   "outputs": [
    {
     "data": {
      "text/plain": [
       "[(Decimal('0.6499937'), 4125, 52292),\n",
       " (Decimal('-2.0933574'), 4168, 52292),\n",
       " (Decimal('-0.5017699'), 4170, 52292),\n",
       " (Decimal('-0.2067129'), 4230, 52292),\n",
       " (Decimal('0.4276300'), 4238, 52292)]"
      ]
     },
     "execution_count": 23,
     "metadata": {},
     "output_type": "execute_result"
    }
   ],
   "source": [
    "response[:5]"
   ]
  },
  {
   "cell_type": "markdown",
   "metadata": {},
   "source": [
    "I unzip my response and then zip them back into a list of tuples with the rating, movie_id and user_id in that order"
   ]
  },
  {
   "cell_type": "code",
   "execution_count": 24,
   "metadata": {},
   "outputs": [],
   "source": [
    "ratings, movie_ids, user_ids = [*zip(*response)]"
   ]
  },
  {
   "cell_type": "markdown",
   "metadata": {},
   "source": [
    "For computational efficiency, I will be utilizing numpy arrays to perform calculations. With the list of tuples now representing reviews for a movie by a user, I am ready to make it into a numpy sparse matrix. "
   ]
  },
  {
   "cell_type": "code",
   "execution_count": 25,
   "metadata": {},
   "outputs": [],
   "source": [
    "sparse_mat = coo_matrix((ratings[0:], (movie_ids[0:], user_ids[0:])), dtype='float32')"
   ]
  },
  {
   "cell_type": "code",
   "execution_count": 26,
   "metadata": {},
   "outputs": [
    {
     "data": {
      "text/plain": [
       "(15452, 138494)"
      ]
     },
     "execution_count": 26,
     "metadata": {},
     "output_type": "execute_result"
    }
   ],
   "source": [
    "sparse_mat.shape"
   ]
  },
  {
   "cell_type": "markdown",
   "metadata": {},
   "source": [
    "The sparse matrix generated has a shape of 15,452 rows and 138,494 columns, with each row representing movies and users on the columns. In other words, each movie is now represented by 138,494 user reviews or 'features'. I will later compute the cosine similarity among my vectors. "
   ]
  },
  {
   "cell_type": "markdown",
   "metadata": {},
   "source": [
    "### Create serial_movie_id_title table "
   ]
  },
  {
   "cell_type": "markdown",
   "metadata": {},
   "source": [
    "First, I created a table in PostgreSQL that maps the serial_movie_id (which are the rows and columns of my cosine distance dataframe) with title of the movie so that I can overwrite the rows and columns of my cosine distance dataframe. This dataframe will be utilized heavily in generating recommendations in the following functions."
   ]
  },
  {
   "cell_type": "code",
   "execution_count": 27,
   "metadata": {},
   "outputs": [],
   "source": [
    "query = \"\"\"\n",
    "SELECT * FROM serial_movie_id_title\n",
    "\"\"\""
   ]
  },
  {
   "cell_type": "code",
   "execution_count": 28,
   "metadata": {},
   "outputs": [],
   "source": [
    "response = execute_query(query)"
   ]
  },
  {
   "cell_type": "code",
   "execution_count": 29,
   "metadata": {},
   "outputs": [
    {
     "data": {
      "text/html": [
       "<div>\n",
       "<style scoped>\n",
       "    .dataframe tbody tr th:only-of-type {\n",
       "        vertical-align: middle;\n",
       "    }\n",
       "\n",
       "    .dataframe tbody tr th {\n",
       "        vertical-align: top;\n",
       "    }\n",
       "\n",
       "    .dataframe thead th {\n",
       "        text-align: right;\n",
       "    }\n",
       "</style>\n",
       "<table border=\"1\" class=\"dataframe\">\n",
       "  <thead>\n",
       "    <tr style=\"text-align: right;\">\n",
       "      <th></th>\n",
       "      <th>s_movie_id</th>\n",
       "      <th>title</th>\n",
       "    </tr>\n",
       "  </thead>\n",
       "  <tbody>\n",
       "    <tr>\n",
       "      <th>0</th>\n",
       "      <td>1</td>\n",
       "      <td>Toy Story (1995)</td>\n",
       "    </tr>\n",
       "    <tr>\n",
       "      <th>1</th>\n",
       "      <td>2</td>\n",
       "      <td>Jumanji (1995)</td>\n",
       "    </tr>\n",
       "    <tr>\n",
       "      <th>2</th>\n",
       "      <td>3</td>\n",
       "      <td>Grumpier Old Men (1995)</td>\n",
       "    </tr>\n",
       "    <tr>\n",
       "      <th>3</th>\n",
       "      <td>4</td>\n",
       "      <td>Waiting to Exhale (1995)</td>\n",
       "    </tr>\n",
       "    <tr>\n",
       "      <th>4</th>\n",
       "      <td>5</td>\n",
       "      <td>Father of the Bride Part II (1995)</td>\n",
       "    </tr>\n",
       "  </tbody>\n",
       "</table>\n",
       "</div>"
      ],
      "text/plain": [
       "   s_movie_id                               title\n",
       "0           1                    Toy Story (1995)\n",
       "1           2                      Jumanji (1995)\n",
       "2           3             Grumpier Old Men (1995)\n",
       "3           4            Waiting to Exhale (1995)\n",
       "4           5  Father of the Bride Part II (1995)"
      ]
     },
     "execution_count": 29,
     "metadata": {},
     "output_type": "execute_result"
    }
   ],
   "source": [
    "serial_movie_id_title = pd.DataFrame(response)\n",
    "\n",
    "serial_movie_id_title.columns = ['s_movie_id', 'title']\n",
    "\n",
    "serial_movie_id_title.set_index('s_movie_id')\n",
    "\n",
    "serial_movie_id_title.head()\n"
   ]
  },
  {
   "cell_type": "code",
   "execution_count": 30,
   "metadata": {},
   "outputs": [
    {
     "data": {
      "text/plain": [
       "(15451, 2)"
      ]
     },
     "execution_count": 30,
     "metadata": {},
     "output_type": "execute_result"
    }
   ],
   "source": [
    "serial_movie_id_title.shape"
   ]
  },
  {
   "cell_type": "markdown",
   "metadata": {},
   "source": [
    "### Cosine similarity summarized"
   ]
  },
  {
   "cell_type": "markdown",
   "metadata": {},
   "source": [
    "### $$\n",
    "cos(\\theta) = \\frac{A \\cdot B}{\\left\\| A\\right\\| \\left\\| B\\right\\| } = \\frac{A \\cdot B}{\\sqrt{\\sum{A_i^2}} \\cdot \\sqrt{\\sum{B_i^2}}}\n",
    "$$"
   ]
  },
  {
   "cell_type": "markdown",
   "metadata": {},
   "source": [
    "Essentially, we take the dot product of two vectors in space and divide by the magnitude of the two vectors multiplied where magnitude represents the length of the vector. The resulting output represents the cosine of the angle between the two vectors (a.k.a. cosine similarity value) with -1 being the farthest away and 1 being perfectly overlapped or identical to the the vector. "
   ]
  },
  {
   "cell_type": "code",
   "execution_count": 31,
   "metadata": {},
   "outputs": [],
   "source": [
    "cosine_matrix = cosine_similarity(sparse_mat, sparse_mat)"
   ]
  },
  {
   "cell_type": "markdown",
   "metadata": {},
   "source": [
    "Aside from rounding errors, my scores are now between 0 and 1 with 0 being the most dissimilar and 1 being the most similar movie (a.k.a. itself). They do not range from -1 and 1 as previously described due to the fact that a user cannot leave a negative review for a movie. "
   ]
  },
  {
   "cell_type": "code",
   "execution_count": 32,
   "metadata": {},
   "outputs": [
    {
     "data": {
      "text/plain": [
       "array([[ 0.        ,  0.        ,  0.        , ...,  0.        ,\n",
       "         0.        ,  0.        ],\n",
       "       [ 0.        ,  1.00023127,  0.13220523, ...,  0.00168974,\n",
       "        -0.00227867, -0.00126228],\n",
       "       [ 0.        ,  0.13220523,  0.99999362, ..., -0.00137833,\n",
       "         0.00293332, -0.00112325],\n",
       "       ..., \n",
       "       [ 0.        ,  0.00168974, -0.00137833, ...,  1.        ,\n",
       "        -0.1644212 , -0.02935707],\n",
       "       [ 0.        , -0.00227867,  0.00293332, ..., -0.1644212 ,\n",
       "         0.99999988,  0.        ],\n",
       "       [ 0.        , -0.00126228, -0.00112325, ..., -0.02935707,\n",
       "         0.        ,  0.99999994]], dtype=float32)"
      ]
     },
     "execution_count": 32,
     "metadata": {},
     "output_type": "execute_result"
    }
   ],
   "source": [
    "cosine_matrix"
   ]
  },
  {
   "cell_type": "markdown",
   "metadata": {},
   "source": [
    "By subtracting the cosine similarity scores from 1, I am effectively taking the cosine similarity of each movie and turn them into a distance metric (the distance is the gap between the two vectors pointing towards similar direction. (lower the distance, the smaller the gap between the vectors; cosine similarity which ranges from -1 to +1 is now will be normalized to distances of 0 (equivalent to cosine similarity of 1) to 2(equivalent to cosine similarity of -1); we want to recommend movies with smallest distances between each other."
   ]
  },
  {
   "cell_type": "code",
   "execution_count": 33,
   "metadata": {},
   "outputs": [],
   "source": [
    "cosine_distance = 1 - cosine_matrix"
   ]
  },
  {
   "cell_type": "code",
   "execution_count": 34,
   "metadata": {},
   "outputs": [
    {
     "data": {
      "text/plain": [
       "array([[  1.00000000e+00,   1.00000000e+00,   1.00000000e+00, ...,\n",
       "          1.00000000e+00,   1.00000000e+00,   1.00000000e+00],\n",
       "       [  1.00000000e+00,  -2.31266022e-04,   8.67794752e-01, ...,\n",
       "          9.98310268e-01,   1.00227869e+00,   1.00126231e+00],\n",
       "       [  1.00000000e+00,   8.67794752e-01,   6.37769699e-06, ...,\n",
       "          1.00137830e+00,   9.97066677e-01,   1.00112319e+00],\n",
       "       ..., \n",
       "       [  1.00000000e+00,   9.98310268e-01,   1.00137830e+00, ...,\n",
       "          0.00000000e+00,   1.16442120e+00,   1.02935708e+00],\n",
       "       [  1.00000000e+00,   1.00227869e+00,   9.97066677e-01, ...,\n",
       "          1.16442120e+00,   1.19209290e-07,   1.00000000e+00],\n",
       "       [  1.00000000e+00,   1.00126231e+00,   1.00112319e+00, ...,\n",
       "          1.02935708e+00,   1.00000000e+00,   5.96046448e-08]], dtype=float32)"
      ]
     },
     "execution_count": 34,
     "metadata": {},
     "output_type": "execute_result"
    }
   ],
   "source": [
    "cosine_distance"
   ]
  },
  {
   "cell_type": "markdown",
   "metadata": {},
   "source": [
    "To echo a previous point, because there are no negative reviews, we do not see a distance of 2 which is equivalent of having a cosine similarity of -1. "
   ]
  },
  {
   "cell_type": "markdown",
   "metadata": {},
   "source": [
    "Save out the cosine_distances"
   ]
  },
  {
   "cell_type": "code",
   "execution_count": 36,
   "metadata": {},
   "outputs": [],
   "source": [
    "cosine_distance_df = pd.DataFrame(cosine_distance)"
   ]
  },
  {
   "cell_type": "code",
   "execution_count": 37,
   "metadata": {},
   "outputs": [
    {
     "data": {
      "text/html": [
       "<div>\n",
       "<style scoped>\n",
       "    .dataframe tbody tr th:only-of-type {\n",
       "        vertical-align: middle;\n",
       "    }\n",
       "\n",
       "    .dataframe tbody tr th {\n",
       "        vertical-align: top;\n",
       "    }\n",
       "\n",
       "    .dataframe thead th {\n",
       "        text-align: right;\n",
       "    }\n",
       "</style>\n",
       "<table border=\"1\" class=\"dataframe\">\n",
       "  <thead>\n",
       "    <tr style=\"text-align: right;\">\n",
       "      <th></th>\n",
       "      <th>0</th>\n",
       "      <th>1</th>\n",
       "      <th>2</th>\n",
       "      <th>3</th>\n",
       "      <th>4</th>\n",
       "      <th>5</th>\n",
       "      <th>6</th>\n",
       "      <th>7</th>\n",
       "      <th>8</th>\n",
       "      <th>9</th>\n",
       "      <th>...</th>\n",
       "      <th>15442</th>\n",
       "      <th>15443</th>\n",
       "      <th>15444</th>\n",
       "      <th>15445</th>\n",
       "      <th>15446</th>\n",
       "      <th>15447</th>\n",
       "      <th>15448</th>\n",
       "      <th>15449</th>\n",
       "      <th>15450</th>\n",
       "      <th>15451</th>\n",
       "    </tr>\n",
       "  </thead>\n",
       "  <tbody>\n",
       "    <tr>\n",
       "      <th>0</th>\n",
       "      <td>1.0</td>\n",
       "      <td>1.000000</td>\n",
       "      <td>1.000000</td>\n",
       "      <td>1.000000</td>\n",
       "      <td>1.000000</td>\n",
       "      <td>1.000000</td>\n",
       "      <td>1.000000</td>\n",
       "      <td>1.000000</td>\n",
       "      <td>1.000000</td>\n",
       "      <td>1.000000</td>\n",
       "      <td>...</td>\n",
       "      <td>1.000000</td>\n",
       "      <td>1.000000</td>\n",
       "      <td>1.000000</td>\n",
       "      <td>1.000000</td>\n",
       "      <td>1.000000</td>\n",
       "      <td>1.000000</td>\n",
       "      <td>1.000000</td>\n",
       "      <td>1.000000</td>\n",
       "      <td>1.000000</td>\n",
       "      <td>1.000000</td>\n",
       "    </tr>\n",
       "    <tr>\n",
       "      <th>1</th>\n",
       "      <td>1.0</td>\n",
       "      <td>-0.000231</td>\n",
       "      <td>0.867795</td>\n",
       "      <td>0.942891</td>\n",
       "      <td>0.978433</td>\n",
       "      <td>0.932063</td>\n",
       "      <td>0.954288</td>\n",
       "      <td>0.937579</td>\n",
       "      <td>0.978023</td>\n",
       "      <td>0.984004</td>\n",
       "      <td>...</td>\n",
       "      <td>0.995371</td>\n",
       "      <td>0.998733</td>\n",
       "      <td>0.994089</td>\n",
       "      <td>0.996774</td>\n",
       "      <td>0.995118</td>\n",
       "      <td>0.993352</td>\n",
       "      <td>1.000163</td>\n",
       "      <td>0.998310</td>\n",
       "      <td>1.002279</td>\n",
       "      <td>1.001262</td>\n",
       "    </tr>\n",
       "    <tr>\n",
       "      <th>2</th>\n",
       "      <td>1.0</td>\n",
       "      <td>0.867795</td>\n",
       "      <td>0.000006</td>\n",
       "      <td>0.912590</td>\n",
       "      <td>0.947597</td>\n",
       "      <td>0.884898</td>\n",
       "      <td>0.964926</td>\n",
       "      <td>0.916033</td>\n",
       "      <td>0.920896</td>\n",
       "      <td>0.941240</td>\n",
       "      <td>...</td>\n",
       "      <td>1.005929</td>\n",
       "      <td>1.001054</td>\n",
       "      <td>0.998055</td>\n",
       "      <td>1.009926</td>\n",
       "      <td>0.995807</td>\n",
       "      <td>0.995381</td>\n",
       "      <td>1.000714</td>\n",
       "      <td>1.001378</td>\n",
       "      <td>0.997067</td>\n",
       "      <td>1.001123</td>\n",
       "    </tr>\n",
       "    <tr>\n",
       "      <th>3</th>\n",
       "      <td>1.0</td>\n",
       "      <td>0.942891</td>\n",
       "      <td>0.912590</td>\n",
       "      <td>-0.000043</td>\n",
       "      <td>0.950798</td>\n",
       "      <td>0.789566</td>\n",
       "      <td>0.952719</td>\n",
       "      <td>0.878553</td>\n",
       "      <td>0.932447</td>\n",
       "      <td>0.919004</td>\n",
       "      <td>...</td>\n",
       "      <td>1.007036</td>\n",
       "      <td>1.000609</td>\n",
       "      <td>0.992483</td>\n",
       "      <td>1.003399</td>\n",
       "      <td>0.997390</td>\n",
       "      <td>0.981669</td>\n",
       "      <td>0.999555</td>\n",
       "      <td>0.999758</td>\n",
       "      <td>1.000546</td>\n",
       "      <td>1.000818</td>\n",
       "    </tr>\n",
       "    <tr>\n",
       "      <th>4</th>\n",
       "      <td>1.0</td>\n",
       "      <td>0.978433</td>\n",
       "      <td>0.947597</td>\n",
       "      <td>0.950798</td>\n",
       "      <td>0.000007</td>\n",
       "      <td>0.932865</td>\n",
       "      <td>0.977778</td>\n",
       "      <td>0.944660</td>\n",
       "      <td>0.921253</td>\n",
       "      <td>0.963780</td>\n",
       "      <td>...</td>\n",
       "      <td>1.012262</td>\n",
       "      <td>1.000916</td>\n",
       "      <td>1.000612</td>\n",
       "      <td>1.000000</td>\n",
       "      <td>1.000420</td>\n",
       "      <td>1.001828</td>\n",
       "      <td>1.000000</td>\n",
       "      <td>1.000229</td>\n",
       "      <td>1.000000</td>\n",
       "      <td>1.000000</td>\n",
       "    </tr>\n",
       "  </tbody>\n",
       "</table>\n",
       "<p>5 rows × 15452 columns</p>\n",
       "</div>"
      ],
      "text/plain": [
       "   0         1         2         3         4         5         6      \\\n",
       "0    1.0  1.000000  1.000000  1.000000  1.000000  1.000000  1.000000   \n",
       "1    1.0 -0.000231  0.867795  0.942891  0.978433  0.932063  0.954288   \n",
       "2    1.0  0.867795  0.000006  0.912590  0.947597  0.884898  0.964926   \n",
       "3    1.0  0.942891  0.912590 -0.000043  0.950798  0.789566  0.952719   \n",
       "4    1.0  0.978433  0.947597  0.950798  0.000007  0.932865  0.977778   \n",
       "\n",
       "      7         8         9        ...        15442     15443     15444  \\\n",
       "0  1.000000  1.000000  1.000000    ...     1.000000  1.000000  1.000000   \n",
       "1  0.937579  0.978023  0.984004    ...     0.995371  0.998733  0.994089   \n",
       "2  0.916033  0.920896  0.941240    ...     1.005929  1.001054  0.998055   \n",
       "3  0.878553  0.932447  0.919004    ...     1.007036  1.000609  0.992483   \n",
       "4  0.944660  0.921253  0.963780    ...     1.012262  1.000916  1.000612   \n",
       "\n",
       "      15445     15446     15447     15448     15449     15450     15451  \n",
       "0  1.000000  1.000000  1.000000  1.000000  1.000000  1.000000  1.000000  \n",
       "1  0.996774  0.995118  0.993352  1.000163  0.998310  1.002279  1.001262  \n",
       "2  1.009926  0.995807  0.995381  1.000714  1.001378  0.997067  1.001123  \n",
       "3  1.003399  0.997390  0.981669  0.999555  0.999758  1.000546  1.000818  \n",
       "4  1.000000  1.000420  1.001828  1.000000  1.000229  1.000000  1.000000  \n",
       "\n",
       "[5 rows x 15452 columns]"
      ]
     },
     "execution_count": 37,
     "metadata": {},
     "output_type": "execute_result"
    }
   ],
   "source": [
    "cosine_distance_df.head()"
   ]
  },
  {
   "cell_type": "markdown",
   "metadata": {},
   "source": [
    "I drop the zero column and row index because information queried from PostgreSQL starts with index 1."
   ]
  },
  {
   "cell_type": "code",
   "execution_count": 38,
   "metadata": {},
   "outputs": [],
   "source": [
    "cosine_distance_df.drop(0, axis = 0, inplace = True)"
   ]
  },
  {
   "cell_type": "code",
   "execution_count": 39,
   "metadata": {},
   "outputs": [],
   "source": [
    "cosine_distance_df.drop(0, axis = 1, inplace = True)"
   ]
  },
  {
   "cell_type": "markdown",
   "metadata": {},
   "source": [
    "I overwrite the columns and rows with the tiles from serial_movie_id_title"
   ]
  },
  {
   "cell_type": "code",
   "execution_count": 40,
   "metadata": {},
   "outputs": [],
   "source": [
    "cosine_distance_df.columns = [serial_movie_id_title['title']]"
   ]
  },
  {
   "cell_type": "code",
   "execution_count": 41,
   "metadata": {},
   "outputs": [],
   "source": [
    "cosine_distance_df.index = [serial_movie_id_title['title']]"
   ]
  },
  {
   "cell_type": "code",
   "execution_count": 42,
   "metadata": {},
   "outputs": [
    {
     "data": {
      "text/html": [
       "<div>\n",
       "<style scoped>\n",
       "    .dataframe tbody tr th:only-of-type {\n",
       "        vertical-align: middle;\n",
       "    }\n",
       "\n",
       "    .dataframe tbody tr th {\n",
       "        vertical-align: top;\n",
       "    }\n",
       "\n",
       "    .dataframe thead tr th {\n",
       "        text-align: left;\n",
       "    }\n",
       "\n",
       "    .dataframe thead tr:last-of-type th {\n",
       "        text-align: right;\n",
       "    }\n",
       "</style>\n",
       "<table border=\"1\" class=\"dataframe\">\n",
       "  <thead>\n",
       "    <tr>\n",
       "      <th>title</th>\n",
       "      <th>Toy Story (1995)</th>\n",
       "      <th>Jumanji (1995)</th>\n",
       "      <th>Grumpier Old Men (1995)</th>\n",
       "      <th>Waiting to Exhale (1995)</th>\n",
       "      <th>Father of the Bride Part II (1995)</th>\n",
       "      <th>Heat (1995)</th>\n",
       "      <th>Sabrina (1995)</th>\n",
       "      <th>Tom and Huck (1995)</th>\n",
       "      <th>Sudden Death (1995)</th>\n",
       "      <th>GoldenEye (1995)</th>\n",
       "      <th>...</th>\n",
       "      <th>Monty Python: Almost the Truth - Lawyers Cut (2009)</th>\n",
       "      <th>Wild Card (2015)</th>\n",
       "      <th>Hot Tub Time Machine 2 (2015)</th>\n",
       "      <th>The Coven (2015)</th>\n",
       "      <th>Focus (2015)</th>\n",
       "      <th>The Second Best Exotic Marigold Hotel (2015)</th>\n",
       "      <th>Run All Night (2015)</th>\n",
       "      <th>Cinderella (2015)</th>\n",
       "      <th>Frozen Fever (2015)</th>\n",
       "      <th>Insurgent (2015)</th>\n",
       "    </tr>\n",
       "    <tr>\n",
       "      <th>title</th>\n",
       "      <th></th>\n",
       "      <th></th>\n",
       "      <th></th>\n",
       "      <th></th>\n",
       "      <th></th>\n",
       "      <th></th>\n",
       "      <th></th>\n",
       "      <th></th>\n",
       "      <th></th>\n",
       "      <th></th>\n",
       "      <th></th>\n",
       "      <th></th>\n",
       "      <th></th>\n",
       "      <th></th>\n",
       "      <th></th>\n",
       "      <th></th>\n",
       "      <th></th>\n",
       "      <th></th>\n",
       "      <th></th>\n",
       "      <th></th>\n",
       "      <th></th>\n",
       "    </tr>\n",
       "  </thead>\n",
       "  <tbody>\n",
       "    <tr>\n",
       "      <th>Toy Story (1995)</th>\n",
       "      <td>-0.000231</td>\n",
       "      <td>0.867795</td>\n",
       "      <td>0.942891</td>\n",
       "      <td>0.978433</td>\n",
       "      <td>0.932063</td>\n",
       "      <td>0.954288</td>\n",
       "      <td>0.937579</td>\n",
       "      <td>0.978023</td>\n",
       "      <td>0.984004</td>\n",
       "      <td>0.909073</td>\n",
       "      <td>...</td>\n",
       "      <td>0.995371</td>\n",
       "      <td>0.998733</td>\n",
       "      <td>0.994089</td>\n",
       "      <td>0.996774</td>\n",
       "      <td>0.995118</td>\n",
       "      <td>0.993352</td>\n",
       "      <td>1.000163</td>\n",
       "      <td>0.998310</td>\n",
       "      <td>1.002279</td>\n",
       "      <td>1.001262</td>\n",
       "    </tr>\n",
       "    <tr>\n",
       "      <th>Jumanji (1995)</th>\n",
       "      <td>0.867795</td>\n",
       "      <td>0.000006</td>\n",
       "      <td>0.912590</td>\n",
       "      <td>0.947597</td>\n",
       "      <td>0.884898</td>\n",
       "      <td>0.964926</td>\n",
       "      <td>0.916033</td>\n",
       "      <td>0.920896</td>\n",
       "      <td>0.941240</td>\n",
       "      <td>0.865359</td>\n",
       "      <td>...</td>\n",
       "      <td>1.005929</td>\n",
       "      <td>1.001054</td>\n",
       "      <td>0.998055</td>\n",
       "      <td>1.009926</td>\n",
       "      <td>0.995807</td>\n",
       "      <td>0.995381</td>\n",
       "      <td>1.000714</td>\n",
       "      <td>1.001378</td>\n",
       "      <td>0.997067</td>\n",
       "      <td>1.001123</td>\n",
       "    </tr>\n",
       "    <tr>\n",
       "      <th>Grumpier Old Men (1995)</th>\n",
       "      <td>0.942891</td>\n",
       "      <td>0.912590</td>\n",
       "      <td>-0.000043</td>\n",
       "      <td>0.950798</td>\n",
       "      <td>0.789566</td>\n",
       "      <td>0.952719</td>\n",
       "      <td>0.878553</td>\n",
       "      <td>0.932447</td>\n",
       "      <td>0.919004</td>\n",
       "      <td>0.939663</td>\n",
       "      <td>...</td>\n",
       "      <td>1.007036</td>\n",
       "      <td>1.000609</td>\n",
       "      <td>0.992483</td>\n",
       "      <td>1.003399</td>\n",
       "      <td>0.997390</td>\n",
       "      <td>0.981669</td>\n",
       "      <td>0.999555</td>\n",
       "      <td>0.999758</td>\n",
       "      <td>1.000546</td>\n",
       "      <td>1.000818</td>\n",
       "    </tr>\n",
       "    <tr>\n",
       "      <th>Waiting to Exhale (1995)</th>\n",
       "      <td>0.978433</td>\n",
       "      <td>0.947597</td>\n",
       "      <td>0.950798</td>\n",
       "      <td>0.000007</td>\n",
       "      <td>0.932865</td>\n",
       "      <td>0.977778</td>\n",
       "      <td>0.944660</td>\n",
       "      <td>0.921253</td>\n",
       "      <td>0.963780</td>\n",
       "      <td>0.974755</td>\n",
       "      <td>...</td>\n",
       "      <td>1.012262</td>\n",
       "      <td>1.000916</td>\n",
       "      <td>1.000612</td>\n",
       "      <td>1.000000</td>\n",
       "      <td>1.000420</td>\n",
       "      <td>1.001828</td>\n",
       "      <td>1.000000</td>\n",
       "      <td>1.000229</td>\n",
       "      <td>1.000000</td>\n",
       "      <td>1.000000</td>\n",
       "    </tr>\n",
       "    <tr>\n",
       "      <th>Father of the Bride Part II (1995)</th>\n",
       "      <td>0.932063</td>\n",
       "      <td>0.884898</td>\n",
       "      <td>0.789566</td>\n",
       "      <td>0.932865</td>\n",
       "      <td>-0.000043</td>\n",
       "      <td>0.961784</td>\n",
       "      <td>0.839269</td>\n",
       "      <td>0.924316</td>\n",
       "      <td>0.921195</td>\n",
       "      <td>0.931484</td>\n",
       "      <td>...</td>\n",
       "      <td>1.007164</td>\n",
       "      <td>0.999551</td>\n",
       "      <td>1.000183</td>\n",
       "      <td>0.997643</td>\n",
       "      <td>0.996490</td>\n",
       "      <td>0.997482</td>\n",
       "      <td>1.000502</td>\n",
       "      <td>0.997634</td>\n",
       "      <td>0.997530</td>\n",
       "      <td>0.999121</td>\n",
       "    </tr>\n",
       "  </tbody>\n",
       "</table>\n",
       "<p>5 rows × 15451 columns</p>\n",
       "</div>"
      ],
      "text/plain": [
       "title                              Toy Story (1995) Jumanji (1995)  \\\n",
       "title                                                                \n",
       "Toy Story (1995)                          -0.000231       0.867795   \n",
       "Jumanji (1995)                             0.867795       0.000006   \n",
       "Grumpier Old Men (1995)                    0.942891       0.912590   \n",
       "Waiting to Exhale (1995)                   0.978433       0.947597   \n",
       "Father of the Bride Part II (1995)         0.932063       0.884898   \n",
       "\n",
       "title                              Grumpier Old Men (1995)  \\\n",
       "title                                                        \n",
       "Toy Story (1995)                                  0.942891   \n",
       "Jumanji (1995)                                    0.912590   \n",
       "Grumpier Old Men (1995)                          -0.000043   \n",
       "Waiting to Exhale (1995)                          0.950798   \n",
       "Father of the Bride Part II (1995)                0.789566   \n",
       "\n",
       "title                              Waiting to Exhale (1995)  \\\n",
       "title                                                         \n",
       "Toy Story (1995)                                   0.978433   \n",
       "Jumanji (1995)                                     0.947597   \n",
       "Grumpier Old Men (1995)                            0.950798   \n",
       "Waiting to Exhale (1995)                           0.000007   \n",
       "Father of the Bride Part II (1995)                 0.932865   \n",
       "\n",
       "title                              Father of the Bride Part II (1995)  \\\n",
       "title                                                                   \n",
       "Toy Story (1995)                                             0.932063   \n",
       "Jumanji (1995)                                               0.884898   \n",
       "Grumpier Old Men (1995)                                      0.789566   \n",
       "Waiting to Exhale (1995)                                     0.932865   \n",
       "Father of the Bride Part II (1995)                          -0.000043   \n",
       "\n",
       "title                              Heat (1995) Sabrina (1995)  \\\n",
       "title                                                           \n",
       "Toy Story (1995)                      0.954288       0.937579   \n",
       "Jumanji (1995)                        0.964926       0.916033   \n",
       "Grumpier Old Men (1995)               0.952719       0.878553   \n",
       "Waiting to Exhale (1995)              0.977778       0.944660   \n",
       "Father of the Bride Part II (1995)    0.961784       0.839269   \n",
       "\n",
       "title                              Tom and Huck (1995) Sudden Death (1995)  \\\n",
       "title                                                                        \n",
       "Toy Story (1995)                              0.978023            0.984004   \n",
       "Jumanji (1995)                                0.920896            0.941240   \n",
       "Grumpier Old Men (1995)                       0.932447            0.919004   \n",
       "Waiting to Exhale (1995)                      0.921253            0.963780   \n",
       "Father of the Bride Part II (1995)            0.924316            0.921195   \n",
       "\n",
       "title                              GoldenEye (1995)       ...         \\\n",
       "title                                                     ...          \n",
       "Toy Story (1995)                           0.909073       ...          \n",
       "Jumanji (1995)                             0.865359       ...          \n",
       "Grumpier Old Men (1995)                    0.939663       ...          \n",
       "Waiting to Exhale (1995)                   0.974755       ...          \n",
       "Father of the Bride Part II (1995)         0.931484       ...          \n",
       "\n",
       "title                              Monty Python: Almost the Truth - Lawyers Cut (2009)  \\\n",
       "title                                                                                    \n",
       "Toy Story (1995)                                                             0.995371    \n",
       "Jumanji (1995)                                                               1.005929    \n",
       "Grumpier Old Men (1995)                                                      1.007036    \n",
       "Waiting to Exhale (1995)                                                     1.012262    \n",
       "Father of the Bride Part II (1995)                                           1.007164    \n",
       "\n",
       "title                              Wild Card (2015)  \\\n",
       "title                                                 \n",
       "Toy Story (1995)                           0.998733   \n",
       "Jumanji (1995)                             1.001054   \n",
       "Grumpier Old Men (1995)                    1.000609   \n",
       "Waiting to Exhale (1995)                   1.000916   \n",
       "Father of the Bride Part II (1995)         0.999551   \n",
       "\n",
       "title                              Hot Tub Time Machine 2 (2015)  \\\n",
       "title                                                              \n",
       "Toy Story (1995)                                        0.994089   \n",
       "Jumanji (1995)                                          0.998055   \n",
       "Grumpier Old Men (1995)                                 0.992483   \n",
       "Waiting to Exhale (1995)                                1.000612   \n",
       "Father of the Bride Part II (1995)                      1.000183   \n",
       "\n",
       "title                              The Coven (2015) Focus (2015)  \\\n",
       "title                                                              \n",
       "Toy Story (1995)                           0.996774     0.995118   \n",
       "Jumanji (1995)                             1.009926     0.995807   \n",
       "Grumpier Old Men (1995)                    1.003399     0.997390   \n",
       "Waiting to Exhale (1995)                   1.000000     1.000420   \n",
       "Father of the Bride Part II (1995)         0.997643     0.996490   \n",
       "\n",
       "title                              The Second Best Exotic Marigold Hotel (2015)  \\\n",
       "title                                                                             \n",
       "Toy Story (1995)                                                       0.993352   \n",
       "Jumanji (1995)                                                         0.995381   \n",
       "Grumpier Old Men (1995)                                                0.981669   \n",
       "Waiting to Exhale (1995)                                               1.001828   \n",
       "Father of the Bride Part II (1995)                                     0.997482   \n",
       "\n",
       "title                              Run All Night (2015) Cinderella (2015)  \\\n",
       "title                                                                       \n",
       "Toy Story (1995)                               1.000163          0.998310   \n",
       "Jumanji (1995)                                 1.000714          1.001378   \n",
       "Grumpier Old Men (1995)                        0.999555          0.999758   \n",
       "Waiting to Exhale (1995)                       1.000000          1.000229   \n",
       "Father of the Bride Part II (1995)             1.000502          0.997634   \n",
       "\n",
       "title                              Frozen Fever (2015) Insurgent (2015)  \n",
       "title                                                                    \n",
       "Toy Story (1995)                              1.002279         1.001262  \n",
       "Jumanji (1995)                                0.997067         1.001123  \n",
       "Grumpier Old Men (1995)                       1.000546         1.000818  \n",
       "Waiting to Exhale (1995)                      1.000000         1.000000  \n",
       "Father of the Bride Part II (1995)            0.997530         0.999121  \n",
       "\n",
       "[5 rows x 15451 columns]"
      ]
     },
     "execution_count": 42,
     "metadata": {},
     "output_type": "execute_result"
    }
   ],
   "source": [
    "cosine_distance_df.head()"
   ]
  },
  {
   "cell_type": "code",
   "execution_count": 43,
   "metadata": {},
   "outputs": [
    {
     "data": {
      "text/plain": [
       "(15451, 15451)"
      ]
     },
     "execution_count": 43,
     "metadata": {},
     "output_type": "execute_result"
    }
   ],
   "source": [
    "cosine_distance_df.shape"
   ]
  },
  {
   "cell_type": "markdown",
   "metadata": {},
   "source": [
    "With the cosine_distance_df and serial_movie_id_title dataframes, I am able to make recommendations via function."
   ]
  },
  {
   "cell_type": "markdown",
   "metadata": {},
   "source": [
    "## Generate recommender function"
   ]
  },
  {
   "cell_type": "code",
   "execution_count": 44,
   "metadata": {},
   "outputs": [],
   "source": [
    "def get_similar_movies(query_movie_id, n = 16):\n",
    "    '''\n",
    "    This function seeks to utilize the cosine_distance_df by searching for the movie given a query_movie_id and \n",
    "    returning a default number of 15 movies most similar to the generated query_movie_id;\n",
    "    This function will be embedded in the begin_user_search() function to be defined below.\n",
    "    '''\n",
    "    \n",
    "    scores = cosine_distance_df[serial_movie_id_title.iloc[query_movie_id]['title']]\n",
    "    sorted_scores = scores.iloc[:, 0].sort_values()\n",
    "    top_n_titles = sorted_scores.head(n)\n",
    "    titles = top_n_titles.reset_index()['title']\n",
    "    return titles.iloc[1:, :] #by including the 1 in .iloc, I am removing the entered movie itself as the most similar movie should be itself."
   ]
  },
  {
   "cell_type": "code",
   "execution_count": 45,
   "metadata": {},
   "outputs": [
    {
     "data": {
      "text/html": [
       "<div>\n",
       "<style scoped>\n",
       "    .dataframe tbody tr th:only-of-type {\n",
       "        vertical-align: middle;\n",
       "    }\n",
       "\n",
       "    .dataframe tbody tr th {\n",
       "        vertical-align: top;\n",
       "    }\n",
       "\n",
       "    .dataframe thead th {\n",
       "        text-align: right;\n",
       "    }\n",
       "</style>\n",
       "<table border=\"1\" class=\"dataframe\">\n",
       "  <thead>\n",
       "    <tr style=\"text-align: right;\">\n",
       "      <th></th>\n",
       "      <th>s_movie_id</th>\n",
       "      <th>title</th>\n",
       "    </tr>\n",
       "  </thead>\n",
       "  <tbody>\n",
       "    <tr>\n",
       "      <th>0</th>\n",
       "      <td>1</td>\n",
       "      <td>Toy Story (1995)</td>\n",
       "    </tr>\n",
       "    <tr>\n",
       "      <th>1</th>\n",
       "      <td>2</td>\n",
       "      <td>Jumanji (1995)</td>\n",
       "    </tr>\n",
       "    <tr>\n",
       "      <th>2</th>\n",
       "      <td>3</td>\n",
       "      <td>Grumpier Old Men (1995)</td>\n",
       "    </tr>\n",
       "    <tr>\n",
       "      <th>3</th>\n",
       "      <td>4</td>\n",
       "      <td>Waiting to Exhale (1995)</td>\n",
       "    </tr>\n",
       "    <tr>\n",
       "      <th>4</th>\n",
       "      <td>5</td>\n",
       "      <td>Father of the Bride Part II (1995)</td>\n",
       "    </tr>\n",
       "  </tbody>\n",
       "</table>\n",
       "</div>"
      ],
      "text/plain": [
       "   s_movie_id                               title\n",
       "0           1                    Toy Story (1995)\n",
       "1           2                      Jumanji (1995)\n",
       "2           3             Grumpier Old Men (1995)\n",
       "3           4            Waiting to Exhale (1995)\n",
       "4           5  Father of the Bride Part II (1995)"
      ]
     },
     "execution_count": 45,
     "metadata": {},
     "output_type": "execute_result"
    }
   ],
   "source": [
    "serial_movie_id_title.head()"
   ]
  },
  {
   "cell_type": "code",
   "execution_count": 46,
   "metadata": {},
   "outputs": [],
   "source": [
    "def begin_user_search():   \n",
    "    '''\n",
    "    Given a search term or the title of a movie, I search my serial_movie_id_title table with the generated query_movie_id \n",
    "    that is used in the get_similar_movies function defined above to grab by default 15 most similar movies.\n",
    "    '''\n",
    "    \n",
    "    search_term = input(\"Please enter a search term: \")\n",
    "\n",
    "    search_mask = serial_movie_id_title.title.str.contains(search_term)\n",
    "    if search_mask.sum() == 1: #If user enters the exact name of the movie:\n",
    "        query_movie_id = serial_movie_id_title[search_mask]['s_movie_id']\n",
    "    elif search_mask.sum() == 0: #If user's search term does not match any part of a movie's title\n",
    "        print('Invalid Search Term') \n",
    "        return None #doesn't execute rest of the code if search_mask.sum() == 0; a.k.a. couldn't find the movie\n",
    "    elif search_mask.sum() > 1: #If user enters a broad term that matches with more than one movie\n",
    "        print('Please choose intended movie:')\n",
    "        matches = serial_movie_id_title[search_mask][['title', 's_movie_id']].values\n",
    "        smid_dict = {}\n",
    "        for i, (title, smid) in enumerate(matches): \n",
    "            print(f'{i}, {title}')\n",
    "            smid_dict[i] = smid\n",
    "        refined_selection = input('Please enter the number of the correct title: ') #I utilize the refined selection\n",
    "\n",
    "        query_movie_id = smid_dict[int(refined_selection)]-1 \n",
    "        #Utilize the refined selection from user input to grab query_movie_id that will be passed to the get_similar movies defined above\n",
    "        #I subtract one because it refers to dataframe index\n",
    "    \n",
    "    print (get_similar_movies(query_movie_id))\n",
    "    "
   ]
  },
  {
   "cell_type": "markdown",
   "metadata": {},
   "source": [
    "## Demo of recommender:"
   ]
  },
  {
   "cell_type": "code",
   "execution_count": 47,
   "metadata": {},
   "outputs": [
    {
     "name": "stdin",
     "output_type": "stream",
     "text": [
      "Please enter a search term:  Toy Story\n"
     ]
    },
    {
     "name": "stdout",
     "output_type": "stream",
     "text": [
      "Please choose intended movie:\n",
      "0, Toy Story (1995)\n",
      "1, Toy Story 2 (1999)\n",
      "2, Toy Story 3 (2010)\n",
      "3, Toy Story of Terror (2013)\n",
      "4, Toy Story Toons: Hawaiian Vacation (2011)\n",
      "5, Toy Story Toons: Small Fry (2011)\n",
      "6, Toy Story That Time Forgot (2014)\n"
     ]
    },
    {
     "name": "stdin",
     "output_type": "stream",
     "text": [
      "Please enter the number of the correct title:  1\n"
     ]
    },
    {
     "name": "stdout",
     "output_type": "stream",
     "text": [
      "                                        title\n",
      "1                            Toy Story (1995)\n",
      "2                        Bug's Life, A (1998)\n",
      "3                       Monsters, Inc. (2001)\n",
      "4                         Finding Nemo (2003)\n",
      "5   Time Regained (Temps retrouvé, Le) (1999)\n",
      "6                       Voices of Iraq (2004)\n",
      "7                           Angel Eyes (2001)\n",
      "8                   Lady and the Tramp (1955)\n",
      "9             Who Framed Roger Rabbit? (1988)\n",
      "10                                Babe (1995)\n",
      "11                      Lion King, The (1994)\n",
      "12                             Aladdin (1992)\n",
      "13                             Shrek 2 (2004)\n",
      "14                Beauty and the Beast (1991)\n",
      "15                                 Big (1988)\n"
     ]
    }
   ],
   "source": [
    "begin_user_search()"
   ]
  },
  {
   "cell_type": "code",
   "execution_count": 48,
   "metadata": {},
   "outputs": [
    {
     "name": "stdin",
     "output_type": "stream",
     "text": [
      "Please enter a search term:  Hunting\n"
     ]
    },
    {
     "name": "stdout",
     "output_type": "stream",
     "text": [
      "Please choose intended movie:\n",
      "0, Good Will Hunting (1997)\n",
      "1, Hunting of the President, The (2004)\n",
      "2, Hunting and Gathering (Ensemble, c'est tout) (2007)\n",
      "3, Hunting Party, The (2007)\n",
      "4, Screamers: The Hunting (2009)\n"
     ]
    },
    {
     "name": "stdin",
     "output_type": "stream",
     "text": [
      "Please enter the number of the correct title:  0\n"
     ]
    },
    {
     "name": "stdout",
     "output_type": "stream",
     "text": [
      "                               title\n",
      "1                    Rain Man (1988)\n",
      "2          Dead Poets Society (1989)\n",
      "3          As Good as It Gets (1997)\n",
      "4           Beautiful Mind, A (2001)\n",
      "5        Jane Austen's Mafia! (1998)\n",
      "6               Jerry Maguire (1996)\n",
      "7             Mortal Thoughts (1991)\n",
      "8                Forrest Gump (1994)\n",
      "9   Shawshank Redemption, The (1994)\n",
      "10                 Braveheart (1995)\n",
      "11                  Gladiator (2000)\n",
      "12           Sixth Sense, The (1999)\n",
      "13         Christmas Carol, A (1938)\n",
      "14            Green Mile, The (1999)\n",
      "15             Ocean's Eleven (2001)\n"
     ]
    }
   ],
   "source": [
    "begin_user_search()"
   ]
  },
  {
   "cell_type": "code",
   "execution_count": 49,
   "metadata": {},
   "outputs": [
    {
     "name": "stdin",
     "output_type": "stream",
     "text": [
      "Please enter a search term:  Shining\n"
     ]
    },
    {
     "name": "stdout",
     "output_type": "stream",
     "text": [
      "Please choose intended movie:\n",
      "0, Shining, The (1980)\n",
      "1, Shining Through (1992)\n"
     ]
    },
    {
     "name": "stdin",
     "output_type": "stream",
     "text": [
      "Please enter the number of the correct title:  0\n"
     ]
    },
    {
     "name": "stdout",
     "output_type": "stream",
     "text": [
      "                                        title\n",
      "1                               Psycho (1960)\n",
      "2                  Clockwork Orange, A (1971)\n",
      "3                      Poltergeist III (1988)\n",
      "4                    Full Metal Jacket (1987)\n",
      "5                       Apocalypse Now (1979)\n",
      "6                                Alien (1979)\n",
      "7                               Carrie (1976)\n",
      "8                2001: A Space Odyssey (1968)\n",
      "9                     Paris Is Burning (1990)\n",
      "10                                Jaws (1975)\n",
      "11           Silence of the Lambs, The (1991)\n",
      "12                         Poltergeist (1982)\n",
      "13                         Taxi Driver (1976)\n",
      "14  Henry: Portrait of a Serial Killer (1986)\n",
      "15                           Omen, The (1976)\n"
     ]
    }
   ],
   "source": [
    "begin_user_search()"
   ]
  },
  {
   "cell_type": "markdown",
   "metadata": {},
   "source": [
    "## Evaluation of collaborative filtering recommender system"
   ]
  },
  {
   "cell_type": "markdown",
   "metadata": {},
   "source": [
    "For the most part, the recommender system seems to provide legitimate movies that one may enjoy given a previously enjoyed movie. \n",
    "\n",
    "- **Toy Story**:\n",
    "For example, when a user inputs Toy Story and chooses the movie that the user intended to feed into the system (in this case Toy Story 2), the system generates recommendations such as Toy Story (the first one), A Bug's Life, Monsters, Inc. and more. The recommended movies are all animated, family-based and an adventure movie.\n",
    "\n",
    "- **Good Will Hunting**:\n",
    "Another classic movie. The returned recommendations are Rain Man, Dead Poets Society, As Good as It Gets, A Beautiful Mind and more. The recommended movies are also in the drama genres that are highly rated and well-liked by the general public.\n",
    "\n",
    "- **The Shining**:\n",
    "To experiment the whole spectrum of genres, I also tried a thriller/horror movie and a notable movie is The Shining starring Jack Nicholson. The top recommended movies are Psycho, A Orange Clockwork, Poltergeist III, Full Metal Jacket and more. Many of the movies are crime/thriller and horror; therefore, I am confident that users who enjoyed watching The Shining will enjoy the recommended movies.\n",
    "\n",
    "**Overall**: <br> The recommender system tends to recommend movies that are of similar genres. While this may be accurate in that a user that enjoyed a thriller/crime movie is likely to find another thriller/crime enjoyable, it would be interesting and beneficial if the system can recommend across genres more frequently. <br> <br>"
   ]
  },
  {
   "cell_type": "markdown",
   "metadata": {},
   "source": [
    "## Conclusion and Going Forward"
   ]
  },
  {
   "cell_type": "markdown",
   "metadata": {},
   "source": [
    "Comparing the two types of recommender system, the collaborative filtering method seemed to have provided a more robust set of movie recommendations. The content-based filtering method faces two potential shortcomings: the first being that it usually does not recommend movies of different genres, simply due to the fact that if the genres of movies overlap, their vectors are likely to be similar due to the overlap. Similarly, named entities will play a large role in which movies are recommended as evident in the Toy Story example. In addition, the content-based method likely does not address personal tastes of users. Therefore, we explored the collaborative filtering method which seeks to represent movies as vectors of user reviews. \n",
    "\n",
    "The results from the three movies in the collaborative filtering method lead me to believe that a user is likely to enjoy using this recommender system more than the content-based one. If I were to push one recommender to production, I would proceed wtih the collaborative filtering method. "
   ]
  }
 ],
 "metadata": {
  "kernelspec": {
   "display_name": "Python 3",
   "language": "python",
   "name": "python3"
  },
  "language_info": {
   "codemirror_mode": {
    "name": "ipython",
    "version": 3
   },
   "file_extension": ".py",
   "mimetype": "text/x-python",
   "name": "python",
   "nbconvert_exporter": "python",
   "pygments_lexer": "ipython3",
   "version": "3.7.0"
  }
 },
 "nbformat": 4,
 "nbformat_minor": 2
}
